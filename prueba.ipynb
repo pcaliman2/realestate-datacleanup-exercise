{
 "cells": [
  {
   "cell_type": "code",
   "execution_count": 23,
   "id": "aef850d1",
   "metadata": {},
   "outputs": [],
   "source": [
    "def Borradoo(): \n",
    "    import os\n",
    "\n",
    "    archivo = \"./archivo.txt\"\n",
    "\n",
    "    try:\n",
    "        os.remove(archivo)\n",
    "        print(\"Archivo eliminado exitosamente.\")\n",
    "    except FileNotFoundError:\n",
    "        print(\"El archivo no existe.\")\n",
    "    except PermissionError:\n",
    "        print(\"No tienes permisos para eliminar este archivo.\")\n",
    "\n",
    "\n",
    "import pandas as pd\n",
    "\n",
    "# DataFrame original con índice 'SKU'\n",
    "data = pd.DataFrame({\n",
    "    'SKU': [31390, 31871, 31872],\n",
    "    'Producto': ['a', 'a', 'a'],\n",
    "    'Categoria': ['a', 'a', 'a'],\n",
    "    'Tienda': [0, 0, 0],\n",
    "    'Bodega': [0, 0, 0],\n",
    "    'Total': [0, 0, 0],\n",
    "    'Unidad': ['a', 'a', 'a']\n",
    "}).set_index('SKU')\n"
   ]
  },
  {
   "cell_type": "code",
   "execution_count": 24,
   "id": "953abd37",
   "metadata": {},
   "outputs": [
    {
     "name": "stderr",
     "output_type": "stream",
     "text": [
      "/tmp/ipykernel_1477/3319124611.py:10: FutureWarning: Downcasting object dtype arrays on .fillna, .ffill, .bfill is deprecated and will change in a future version. Call result.infer_objects(copy=False) instead. To opt-in to the future behavior, set `pd.set_option('future.no_silent_downcasting', True)`\n",
      "  pp['Tienda'] = pp['Tienda'].fillna(0).astype(int)\n",
      "/tmp/ipykernel_1477/3319124611.py:11: FutureWarning: Downcasting object dtype arrays on .fillna, .ffill, .bfill is deprecated and will change in a future version. Call result.infer_objects(copy=False) instead. To opt-in to the future behavior, set `pd.set_option('future.no_silent_downcasting', True)`\n",
      "  pp['Bodega'] = pp['Bodega'].fillna(0).astype(int)\n"
     ]
    }
   ],
   "source": [
    "\n",
    "\n",
    "# Leer Excel sin encabezado y asignar la fila 4 como encabezado\n",
    "pp = pd.read_excel(\"ppt.xlsx\", header=None)\n",
    "pp.columns = pp.iloc[4]   # fila 4 (índice 4) como nombres de columnas\n",
    "pp = pp[5:].reset_index(drop=True)  # tomar desde fila 5 hacia abajo, resetear índice\n",
    "pp = pp.loc[:, ~pp.columns.isna()]   # eliminar columnas con nombre NaN\n",
    "\n",
    "pp['SKU'] = pp['SKU'].fillna(0).astype(int)\n",
    "pp = pp[pp['SKU'] != 0]\n",
    "pp.columns = ['Producto', 'Categoria', 'SKU', 'Tienda', 'Bodega', 'Total', 'Unidad']\n",
    "pp['Tienda'] = pp['Tienda'].fillna(0).astype(int)\n",
    "pp['Bodega'] = pp['Bodega'].fillna(0).astype(int)\n",
    "\n",
    "# Asignar índice SKU para poder hacer update basado en índices\n",
    "NuevoID = pp.set_index('SKU')\n",
    "\n",
    "# Actualizar el DataFrame 'data' con los valores del DataFrame 'NuevoID'\n",
    "data.update(NuevoID)"
   ]
  },
  {
   "cell_type": "code",
   "execution_count": 25,
   "id": "145cda2f",
   "metadata": {},
   "outputs": [
    {
     "data": {
      "text/html": [
       "<div>\n",
       "<style scoped>\n",
       "    .dataframe tbody tr th:only-of-type {\n",
       "        vertical-align: middle;\n",
       "    }\n",
       "\n",
       "    .dataframe tbody tr th {\n",
       "        vertical-align: top;\n",
       "    }\n",
       "\n",
       "    .dataframe thead th {\n",
       "        text-align: right;\n",
       "    }\n",
       "</style>\n",
       "<table border=\"1\" class=\"dataframe\">\n",
       "  <thead>\n",
       "    <tr style=\"text-align: right;\">\n",
       "      <th></th>\n",
       "      <th>Producto</th>\n",
       "      <th>Categoria</th>\n",
       "      <th>SKU</th>\n",
       "      <th>Tienda</th>\n",
       "      <th>Bodega</th>\n",
       "      <th>Total</th>\n",
       "      <th>Unidad</th>\n",
       "    </tr>\n",
       "  </thead>\n",
       "  <tbody>\n",
       "    <tr>\n",
       "      <th>0</th>\n",
       "      <td>Hamburguesa Cheddar Bacon Fresco</td>\n",
       "      <td>Grab And Go</td>\n",
       "      <td>31390</td>\n",
       "      <td>1</td>\n",
       "      <td>0</td>\n",
       "      <td>1</td>\n",
       "      <td>unidad</td>\n",
       "    </tr>\n",
       "    <tr>\n",
       "      <th>1</th>\n",
       "      <td>Hamburguesa Classic Cheddar Fresco</td>\n",
       "      <td>Grab And Go</td>\n",
       "      <td>31391</td>\n",
       "      <td>0</td>\n",
       "      <td>0</td>\n",
       "      <td>0</td>\n",
       "      <td>unidad</td>\n",
       "    </tr>\n",
       "    <tr>\n",
       "      <th>2</th>\n",
       "      <td>Miga Ave Pimenton Fresco</td>\n",
       "      <td>Grab And Go</td>\n",
       "      <td>31871</td>\n",
       "      <td>14</td>\n",
       "      <td>0</td>\n",
       "      <td>14</td>\n",
       "      <td>unidad</td>\n",
       "    </tr>\n",
       "    <tr>\n",
       "      <th>3</th>\n",
       "      <td>Miga Ave Mayo Fresco</td>\n",
       "      <td>Grab And Go</td>\n",
       "      <td>31872</td>\n",
       "      <td>5</td>\n",
       "      <td>0</td>\n",
       "      <td>5</td>\n",
       "      <td>unidad</td>\n",
       "    </tr>\n",
       "    <tr>\n",
       "      <th>4</th>\n",
       "      <td>Miga Ave Palta Fresco</td>\n",
       "      <td>Grab And Go</td>\n",
       "      <td>31873</td>\n",
       "      <td>0</td>\n",
       "      <td>0</td>\n",
       "      <td>0</td>\n",
       "      <td>unidad</td>\n",
       "    </tr>\n",
       "  </tbody>\n",
       "</table>\n",
       "</div>"
      ],
      "text/plain": [
       "                             Producto    Categoria    SKU  Tienda  Bodega  \\\n",
       "0    Hamburguesa Cheddar Bacon Fresco  Grab And Go  31390       1       0   \n",
       "1  Hamburguesa Classic Cheddar Fresco  Grab And Go  31391       0       0   \n",
       "2            Miga Ave Pimenton Fresco  Grab And Go  31871      14       0   \n",
       "3                Miga Ave Mayo Fresco  Grab And Go  31872       5       0   \n",
       "4               Miga Ave Palta Fresco  Grab And Go  31873       0       0   \n",
       "\n",
       "  Total  Unidad  \n",
       "0     1  unidad  \n",
       "1     0  unidad  \n",
       "2    14  unidad  \n",
       "3     5  unidad  \n",
       "4     0  unidad  "
      ]
     },
     "execution_count": 25,
     "metadata": {},
     "output_type": "execute_result"
    }
   ],
   "source": [
    "pp.head()"
   ]
  },
  {
   "cell_type": "code",
   "execution_count": 26,
   "id": "abbf02d1",
   "metadata": {},
   "outputs": [
    {
     "name": "stdout",
     "output_type": "stream",
     "text": [
      "<class 'pandas.core.frame.DataFrame'>\n",
      "Index: 471 entries, 31390 to 203035\n",
      "Data columns (total 6 columns):\n",
      " #   Column     Non-Null Count  Dtype \n",
      "---  ------     --------------  ----- \n",
      " 0   Producto   471 non-null    object\n",
      " 1   Categoria  471 non-null    object\n",
      " 2   Tienda     471 non-null    int64 \n",
      " 3   Bodega     471 non-null    int64 \n",
      " 4   Total      471 non-null    object\n",
      " 5   Unidad     471 non-null    object\n",
      "dtypes: int64(2), object(4)\n",
      "memory usage: 41.9+ KB\n"
     ]
    }
   ],
   "source": [
    "NuevoID.info()"
   ]
  },
  {
   "cell_type": "code",
   "execution_count": null,
   "id": "79e26d58",
   "metadata": {},
   "outputs": [
    {
     "name": "stdout",
     "output_type": "stream",
     "text": [
      "Archivo eliminado exitosamente.\n"
     ]
    }
   ],
   "source": [
    "data.head()\n"
   ]
  },
  {
   "cell_type": "code",
   "execution_count": null,
   "id": "31d9f94d",
   "metadata": {},
   "outputs": [],
   "source": [
    "Borradoo()"
   ]
  }
 ],
 "metadata": {
  "kernelspec": {
   "display_name": "Python 3",
   "language": "python",
   "name": "python3"
  },
  "language_info": {
   "codemirror_mode": {
    "name": "ipython",
    "version": 3
   },
   "file_extension": ".py",
   "mimetype": "text/x-python",
   "name": "python",
   "nbconvert_exporter": "python",
   "pygments_lexer": "ipython3",
   "version": "3.11.4"
  }
 },
 "nbformat": 4,
 "nbformat_minor": 5
}
