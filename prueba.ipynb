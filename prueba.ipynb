{
 "cells": [
  {
   "cell_type": "code",
   "execution_count": null,
   "id": "aef850d1",
   "metadata": {},
   "outputs": [],
   "source": [
    "import pandas as pd\n",
    "\n",
    "data = pd.DataFrame({\n",
    "    'SKU': [31390, 31871, 31874],\n",
    "    'nombre': ['Ana', 'Luis', 'Carlos'],\n",
    "    'edad': [25, 30, 35]\n",
    "}).set_index('SKU')\n",
    "\n",
    "df = pd.DataFrame(data)\n",
    "df.to_csv('pacientes.csv', index=False)"
   ]
  },
  {
   "cell_type": "code",
   "execution_count": 6,
   "id": "14310951",
   "metadata": {},
   "outputs": [
    {
     "data": {
      "text/html": [
       "<div>\n",
       "<style scoped>\n",
       "    .dataframe tbody tr th:only-of-type {\n",
       "        vertical-align: middle;\n",
       "    }\n",
       "\n",
       "    .dataframe tbody tr th {\n",
       "        vertical-align: top;\n",
       "    }\n",
       "\n",
       "    .dataframe thead th {\n",
       "        text-align: right;\n",
       "    }\n",
       "</style>\n",
       "<table border=\"1\" class=\"dataframe\">\n",
       "  <thead>\n",
       "    <tr style=\"text-align: right;\">\n",
       "      <th></th>\n",
       "      <th>nombre</th>\n",
       "      <th>edad</th>\n",
       "    </tr>\n",
       "    <tr>\n",
       "      <th>id</th>\n",
       "      <th></th>\n",
       "      <th></th>\n",
       "    </tr>\n",
       "  </thead>\n",
       "  <tbody>\n",
       "    <tr>\n",
       "      <th>1</th>\n",
       "      <td>Ana</td>\n",
       "      <td>25</td>\n",
       "    </tr>\n",
       "    <tr>\n",
       "      <th>2</th>\n",
       "      <td>Luis</td>\n",
       "      <td>30</td>\n",
       "    </tr>\n",
       "    <tr>\n",
       "      <th>3</th>\n",
       "      <td>Carlos</td>\n",
       "      <td>35</td>\n",
       "    </tr>\n",
       "  </tbody>\n",
       "</table>\n",
       "</div>"
      ],
      "text/plain": [
       "    nombre  edad\n",
       "id              \n",
       "1      Ana    25\n",
       "2     Luis    30\n",
       "3   Carlos    35"
      ]
     },
     "execution_count": 6,
     "metadata": {},
     "output_type": "execute_result"
    }
   ],
   "source": [
    "data.head()"
   ]
  },
  {
   "cell_type": "code",
   "execution_count": 11,
   "id": "8aeb7d02",
   "metadata": {},
   "outputs": [
    {
     "name": "stdout",
     "output_type": "stream",
     "text": [
      "                  Listado_existencias   Unnamed: 1 Unnamed: 2 Unnamed: 3  \\\n",
      "0                                 NaN          NaN        NaN        NaN   \n",
      "1                   Fecha Generación:   2025-06-11        NaN        NaN   \n",
      "2                                 NaN          NaN        NaN        NaN   \n",
      "3                            Producto    Categoría        SKU     Tienda   \n",
      "4    Hamburguesa Cheddar Bacon Fresco  Grab And Go      31390          1   \n",
      "5  Hamburguesa Classic Cheddar Fresco  Grab And Go      31391          0   \n",
      "6            Miga Ave Pimenton Fresco  Grab And Go      31871         14   \n",
      "7                Miga Ave Mayo Fresco  Grab And Go      31872          5   \n",
      "8               Miga Ave Palta Fresco  Grab And Go      31873          0   \n",
      "9            Miga Barros Jarpa Fresco  Grab And Go      31874          4   \n",
      "\n",
      "  Unnamed: 4 Unnamed: 5   Unnamed: 6  \n",
      "0        NaN        NaN          NaN  \n",
      "1        NaN        NaN          NaN  \n",
      "2        NaN        NaN          NaN  \n",
      "3     Bodega      Total  Unidad base  \n",
      "4          0          1       unidad  \n",
      "5          0          0       unidad  \n",
      "6          0         14       unidad  \n",
      "7          0          5       unidad  \n",
      "8          0          0       unidad  \n",
      "9          0          4       unidad  \n"
     ]
    }
   ],
   "source": [
    "import pandas as pd\n",
    "\n",
    "pp = pd.read_excel(\"ppt.xlsx\")\n",
    "print(pp.head(10))"
   ]
  }
 ],
 "metadata": {
  "kernelspec": {
   "display_name": "Python 3",
   "language": "python",
   "name": "python3"
  },
  "language_info": {
   "codemirror_mode": {
    "name": "ipython",
    "version": 3
   },
   "file_extension": ".py",
   "mimetype": "text/x-python",
   "name": "python",
   "nbconvert_exporter": "python",
   "pygments_lexer": "ipython3",
   "version": "3.11.4"
  }
 },
 "nbformat": 4,
 "nbformat_minor": 5
}
