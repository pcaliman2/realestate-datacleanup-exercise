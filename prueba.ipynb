{
 "cells": [
  {
   "cell_type": "code",
   "execution_count": null,
   "id": "aef850d1",
   "metadata": {},
   "outputs": [],
   "source": [
    "def Borradoo(): \n",
    "    import os\n",
    "\n",
    "    archivo = \"./archivo.txt\"\n",
    "\n",
    "    try:\n",
    "        os.remove(archivo)\n",
    "        print(\"Archivo eliminado exitosamente.\")\n",
    "    except FileNotFoundError:\n",
    "        print(\"El archivo no existe.\")\n",
    "    except PermissionError:\n",
    "        print(\"No tienes permisos para eliminar este archivo.\")\n",
    "\n",
    "\n",
    "import pandas as pd\n",
    "\n",
    "# DataFrame original con índice 'SKU'\n",
    "data = pd.DataFrame({\n",
    "    'SKU': [177927,182622,171594,171595,171596,183110,179880,170303,181434,32066,183038,182084,182081,31996,31995,31966,144349,147549,145111,182605,180419,181469,32061,31952,174389,174387,173488,177007,176375,176376,174390,174388,174391,176483,130584,175676,173081,178480,178479,173083,181323,178481,173330,176482,130583,175675,172641,175615,175613,170996,170995,172970,171575,178849,174973,176512,179117,180613,178851,178850,179714,174974,132607,200622,200623,200629,177780,31890,31887,31390,31391,31984,31940,31872,31873,31871,31874,32001,32184,32183,32181,183253,178418,178420,172176,145624,177151,174943,149652,148402,173706,132594,173708,173707,173709,173576,175093,177671,201621,179520,172713,172177,145623,178203,184248,172253,179980,179978,179979,175062,175037,170587,140250,172171,203035,132141,179099,132142,132143,146996,179098,184579,177677,177679,177685,177678,177682,145277,131828,131821,131830,131822,145616,145274,145272,132158,180430,131841,144873,176812,139524,144892,139521,177293,180421,132161,132116,132863,177675,132117,180426,132165,180424,132166,177673,132123,170306,177674,131848,147023,131847,148245,131808,189101,184257,184256,176800,145891,176801,177497,184081,184082,179115,132177,173057,170431,170432,177878,132181,148960,183131,183132,148962,148961,132188,132191,171357,176255,179884,170429,174824,183130,172117,170430,173059,173193,174815,148891,174341,132190,132207,183134,170119,179886,181279,180058,131836,131831,184253,184254,132152,132154,145832,146218,184249,181449,174794,174547,146220,149041,178244,184252,178246,132145,132147,132149,170304,178196,178198,146610,179986,183976,175007,175755,143574,171337,178375,131766,146161,172216,182198,170373,185823,179514,179142,179515,131018,131052,140300,179489,174244,175473,175474,172293,172292,185627,185628,185630,185632,185631,185625,185624,185633,185626,185629,185638,185639,185641,185643,185642,185634,185636,185644,185637,185640,130292,130293,140937,179316,174131,149620,131251,183953,177999,173894,173645,201698,178000,175693,176665,140700,131415,174411,175479,170317,170316,132793,170382,180864,174541,131399,170137,176557,149675,175684,171166,171165,175683,131416,148548,131425,130945,130946,139527,182286,176556,130303,130304,130305,130306,172185,172186,172184,183048,175778,171702,171701,171971,179350,173753,173752,173754,171296,176558,131358,131360,131361,138745,179146,179145,179144,170226,177842,177843,149679,149681,149678,180650,181421,143838,141314,130912,180192,175373,172422,131407,172386,179637,172385,179263,179262,183078,175681,175682,147740,147417,148593,148592,172046,175050,144140,175674,131255,149677,175038,179311,131004,131005,131277,131278,131279,183427,173179,144134,181742,176606,177965,173261,131272,141301,146091,130478,143421,183257,145238,183258,145240,183259,145241,130512,130511,131219,173265,130519,130520,178082,178083,178160,138086,175109,131282,131283,130531,170156,170158,181271,142796,178990,176115,182265,182297,181384,177624,182190,183491,177057,182276,183492,179529,179240,180840,180847,173186,173185,173184,200965,179492,173316,178424,149702,149703,181131,181130,181132,184173,184172,131418,175108,176149,176230,180803,180396,180399,180400,170003,181129,176673,179501,176672,179502,178041,178545,180804,179527,183260,181970,182101,182100,130350,182116,182117],\n",
    "\n",
    "    'Producto': ['Carbon Premium 2.5kg','Huevo Sorpresa Peppa Pig','Pres. Lifestyles Nuda x3','Pres. Lifestyles Stimula x3','Pres. Lifestyles Studded x3','Prontin De Peluche','Tarjeta Copec Pay','Vaso Venta','Cinnamon Roll AA','Croissant Manjar Arcoalimentos','Donut Cob Chocolate Con Cereal BM','Donut Relleno Chocolate BM','Donut Relleno Frambuesa BM','Magdalena Con Chips de Chocolate BOL','Magdalena Vainilla BOL','Medialuna Granel Congelada AA','Muffin Americano Arandano BM','Muffin Americano Banana Nuez BM','Muffin Americano Chip Chocolate BM','Muffin Arandano Relleno Framb BM','Muffin Relleno 3 Chocolates BM','Muffin Relleno Manjar Nuez BM','Pan de Chocolate Congelado','Queque Limon Glaseado 87g','Kent Blue UP 20s RC','Kent Boost UP 20s RC','Kent Ikon Mix 20 200','Kent Neo B2K Azul DS20s','Kent Neo Rose HL20','Kent Neo Tropic HL20','Kent Silver UP 20s RC','Kent Switch UP 20s RC','Kent White UP 20s RC','Lucky Strike Blue 20. Sin Adetivos','Lucky Strike Blue Azul HL20 LEP','Lucky strike Click Compact Chi Spmint','Lucky Strike ClickyRoll HL20 LEP','Lucky Strike Compact RedBerry 20s HL','Lucky Strike Compact Spearmint 20s','Lucky Strike Crush SL94 20s','Lucky Strike Eclipse 20s','Lucky Strike Exotic Joy 20s','Lucky Strike Fresh Twist 20 200Sl94ClPP','Lucky Strike Red 20, Sin Adetivos','Lucky Strike Red Rojo HL20 LEP','Lucky strike Wild Compact Chi Rberry','Lucky Strike Wild HL20 LEP','Marlboro Crafted Blue Box 20 Unidades','Marlboro Crafted Red Box 20 Unidades','Marlboro Gold Original KS Box 20','Marlboro Red KS Box 20','Marlboro Summer Zest Box 20','Marlboro Touch Caps 20','Pall Mall Blue XL 20s','Pall Mall Boost XL HL20','Pall Mall Click On 20s Xl','Pall Mall Exact Azul 18','Pall Mall Exacto Red 18','Pall Mall Red XL 20s','Pall Mall Silver XL 20s','Pall Mall Sunrise XL20s','Pall Mall Sunset XL HL20','Chaparrita Vienesa Queso','Pizza Artesana Jam Ahumado LAntica 230g','Pizza Artesana Pepperoni LAntica 220g','Pizza Artesana Pepperoni LAntica 350g','Pizza Pepperoni 23cm Copec','Croissant Alargado Fresco Jamon Queso','Doble Hamburguesa Queso Cheddar Fresco','Hamburguesa Cheddar Bacon Fresco','Hamburguesa Classic Cheddar Fresco','Hamburguesa Fresco Cheddar Bacon Cong','Mechada Queso Fresco','Miga Ave Mayo Fresco','Miga Ave Palta Fresco','Miga Ave Pimenton Fresco','Miga Barros Jarpa Fresco','Miga Pavo Al Pesto Fresco','Sandwich Pollo Rebozado Fresco 229g','Sandwich Rustico Pollo Asado (Ambiente)','Sandwich Rustico Salmon Ahumado Ambiente','Bolsa Pequena Kraft Pronto','Cuna Porta Hd 17 Cm','Cuna Porta Hd 22 Cm','Ins. Azucar Pronto 1.000x5gr.','Ins. Azucar Sachet Punto Cj 800U ','Ins. Bolsa Palta Hass Salsa HD','Ins. Ketchup Bolsa','Ins. Mayonesa Bolsa','Ins. Milo 1kg Bolsa','Ins. Milo Top Cup 4x1kg','Ins. Mostaza Bolsa','Ins. Nescafe Alegria Cap Vainilla 4x1kg','Ins. Nescafe Alegria Capuccino 4x1kg','Ins. Nescafe Alegria Mocaccino 4x1kg','Ins. Nescafe Grano 6x1kg','Ins. Pan Hot Dog 17-19cm Tradicional','Ins. Pan Hot Dog 22cm Tradicional','Ins. Papel Anti Grasa Sandwich Punto ','Ins. Porta Vasos Pronto','Ins. Revolvedor Madera','Ins. Sucralosa Pronto 1.000x0.5gr.','Ins. Sucralosa Punto Cj 500U','Ins. Tapa Vaso Cafe S M L  (antiguo)','Ins. Tapa Vaso Cafe S M L Papel 2025','Ins. Te Lipton Yellow Label Signat 25bls','Ins. Vaso Cafe 12oz PX2 Pronto Bio 2023','Ins. Vaso Cafe 16oz PX2 Pronto Bio 2023','Ins. Vaso Cafe 21oz PX2 Pronto Bio 2023','Ins. Vaso Cafe 4oz Punto','Ins. Vaso Cafe 9oz Punto Doble Pared','Servilleta Pronto - Punto 12x500','Vienesa 17cm Calibre 28 SJ','Vienesa 22 cm (Calibre 24) V2','Ins. Bolsa Grande Papel Kraft Punto','Agua Cachantun Con Gas 1.6L','Agua Cachantun Con Gas 600cc','Agua Cachantun Light Gas 1.6L','Agua Cachantun Sin Gas 1.6L','Agua Cachantun Sin Gas 1L','Agua Cachantun Sin Gas 600cc','Agua Cachantun Strong Gas 600ml','Agua Cachantun+ Citrus 600cc','Agua Cachantun+ Granada 600cc','Agua Cachantun+ Manzana 600cc','Agua Cachantun+ Pera 600cc','Agua Cachantun+ Uva 600cc','Agua Sabor Vitaminwater Energy 500cc','Agua Vital Con Gas 1.6L','Agua Vital Con Gas 600cc','Agua Vital Sin Gas 1.6L','Agua Vital Sin Gas 600cc','Agua Vital Sin Gas 990ml','Agua Vitaminwater Power 500ml','Agua Vitaminwater Restore 500ml','Bebida Bilz 1.5L','Bebida Bilz 600cc','Bebida Coca Cola 1.5L','Bebida Coca Cola 591cc','Bebida Coca Cola Retornable 2L','Bebida Coca Cola SA 1.5L','Bebida Coca Cola SA 591cc','Bebida Coca Cola SA Lata 350ml','Bebida Fanta Midcal Pina 591cc','Bebida Kem 600cc','Bebida Kem Pina 1.5L','Bebida Kem Pina Lata 350cc','Bebida Kem Xtreme 1.5L','Bebida Kem Xtreme 600cc','Bebida Kem Xtreme Lata 350cc','Bebida Limon Soda 600cc','Bebida Pap 1.5L','Bebida Pap 600cc','Bebida Pepsi 1.5L','Bebida Pepsi 600cc','Bebida Pepsi Lata 350cc','Bebida Pepsi Zero Azucar 1.5L','Bebida Pepsi Zero Azucar 600cc','Bebida Sprite 1.5L','Bebida Sprite 591cc','Bebida Sprite Sin Azucar 1.5L','Bebida Sprite Sin Azucar 591cc','Coca Cola Lata 350cc','Coca Cola Lata 473 ml','Fanta Naranja Full Sugar 1.5 L','Fanta Naranja Full Sugar 591cc','Gatorade Cool Blue 1L','Gatorade Cool Blue 750ml','Gatorade Fruta Tropical 1L','Gatorade Naranja 1L','Gatorlit Fresa Kiwi 591cc','Gatorlit Uva 591cc','Helado Bilz Y Pap 92ml','Helado Chocolito 85ml','Helado Crazy Chirimoya Alegre 170ml','Helado Crazy Flocos 170ml','Helado Crazy Frambuesa 170ml','Helado Crazy Sahne Nuss 170ml ','Helado Crocanty 90ml','Helado Danky 21 125ml','Helado Danky Choc Platano 125ml','Helado Danky Framb Choc Blanco 125ml','Helado Danky Nogatonga 125ml','Helado Danky Sahne Nuss 125ml','Helado Egocentrico 85ml','Helado Lolly Pop Naranja 90ml','Helado Mega Almendras Vainilla 90ml','Helado Mega Cookies Cream 90ml','Helado Mega Crunchy Dulce De Leche 90g','Helado Mega Frambuesa 90ml','Helado Mega Kit Kat 85ml','Helado Mega Kit Kat Gold 85ml','Helado Mega Manjar Galletas 90ml','Helado Mega Sahne Nuss 90ml','Helado Paleta Triton 80ml','Helado Pura Fruta Frambuesa 75ml','Helado Pura Fruta Mango 75ml','Helado Sangurucho Vainilla 125ml','Helado Savory Brick 1L','Helado Savory Kriko 65ml','Helado Savory Pina 1L','Helado Trencito 70ml','Helado Trululu 70ml','Helado Xplori Espectrolado 68cc','Hielo Cubo 1Kg','Isotonica Fastlyte Frutilla 625ml','Jugo Andina Durazno 300ml','Jugo Andina Naranja 300ml','Jugo del Valle Durazno Lata 340cc','Jugo Del Valle Manzana Lata 340cc','Jugo Watts Durazno 300cc','Jugo Watts Naranja 300cc','Kem Zero Azucar 1.5L','Monster Energy 473ml','Monster Green Zero Sugar 473ml','Monster Lemonade 473ml','Monster Mango Loco 473ml','Monster Paradise 473ml','Monster Ripper 473ml','Monster Ultra 473ml','Monster Ultra Gold 473ml','Monster Ultra Peachy Keen 473cc','Monster Ultra Watermel 473ml','Nectar Watts Durazno 1.5L','Nectar Watts Naranja 1.5L','Nectar Watts Pina 1.5L','Pepsi Zero Azucar Lata 24X350cc','Powerade Frozen Blast 1.1L','Powerade Rojo 1.1L','Red Bull Blue Edition 250ml','Red Bull Dragon Fruit 250ml','Red Bull Flor de Sauco 250ml','Red Bull Purple Acai 250ml','Red Bull Red Edition Sandia 250cc','Red Bull Sugar Free 250ml','Red Bull Sugar Free 355ml','Red Bull Sugar Free 473ml','Red Bull Tradicional 250ml','Red Bull Tradicional 355ml','Red Bull Tradicional 473ml','Red Bull Winter Juneberry 250ml','Red Bull Yellow 250ml','Red Bull Zero 250ml','Te Frio Lipton Ice Negro Durazno 600ml','Te Frio Lipton Te Negro Durazno 1.5L','Te Lipton Ice Negro Fram 600ml','Bater 9V Duracell','Duracell D2 x2','Encendedor Djeep','Encendedor Mini Djeep','Encendedor Ronson Clearlite','Pila Duracell AA x1','Pila Duracell AAA x1','Premier Fine','Premier Plus','Vapo Vuse GO 1000 APPLE SOUR CN','Vapo Vuse GO 1000 BANANA ICE CN','Vapo Vuse GO 1000 BERRY BLEND V3 CN','Vapo Vuse GO 1000 BLOOD ORANGE CN','Vapo Vuse GO 1000 BLUE RASPBERRY CN','Vapo Vuse GO 1000 CREAMY TOBACCO CN','Vapo Vuse GO 1000 GRAPE ICE CN','Vapo Vuse GO 1000 MINT ICE CN','Vapo Vuse GO 1000 STRAWBERRY KIWI CN','Vapo Vuse GO 1000 WATERMELON ICE V3 CN','Vapo Vuse Go 5000 Apple Sour Cn','Vapo Vuse Go 5000 Banana Ice Cn','Vapo Vuse Go 5000 Berry Blend V3 Cn','Vapo Vuse Go 5000 Blood Orange Cn','Vapo Vuse Go 5000 Blue Raspberry Cn','Vapo Vuse Go 5000 Grape Ice Cn','Vapo Vuse Go 5000 Mango Ice V3 Cn','Vapo Vuse Go 5000 Mint Ice Cn','Vapo Vuse Go 5000 Strawberry Kiwi Cn','Vapo Vuse Go 5000 Watermelon Ice V3 Cn','Alfajor Bon o Bon 40g','Alfajor Bon o Bon Blanco 40g','Barra Chocolate Snickers 52g','Barra Chocolate Snickers Almendra 43g','Barra de Chocolate Hobby 35g','Barra de Chocolate Hobby Energy 55g','Barra de Chocolate Prestigio 35g','Barra Hobby Energy 50g','Barra Wild Protein Caramelo 45g','Barra Wild Protein ChocMani 45g','Barra Wild Protein Chocolate 45g','Barra Wild Protein Pie De Limon 45g','Barra Wild Protein Vegan Naranja 45g','Barra Wild Protein Vegana Chocolate 45g','Barra Wild Protein Vegana Coco Choco  45','Bizcocho Chocman Xl 33g','Caramelo Push Pop 14g','Caramelos Alka Cherry 29g','Caramelos Alka Menta 29g','Caramelos Alka Mentol 24g','Caramelos Alka Strong 24g','Caramelos Full Limon 27g','Caramelos Halls Cereza Lyptus 25g','Caramelos Halls Extra Strong 24g','Caramelos Halls Limon Miel 25g','Caramelos Halls Liptus Menta 25g','Caramelos Halls Mentho Liptus 25g','Caramelos Halls Mora 25g','Caramelos Mentitas 25g','Caramelos Mentos Fruit 29g','Caramelos Mentos Kiss Fresa 35g','Caramelos Mentos Kiss Menta 35g','Caramelos Mentos Menta 29.4g','Caramelos Skittles Original 61g','Caramelos Skittles Sour 51g','Caramelos Starburst Original 58g','Caramelos Tic Tac Menta 16g','Caramelos Tic Tac Naranja 16g','Chicle Bigtime Aqua 11g','Chicle Bigtime Fresh Ice 11g','Chicle Bigtime Frutilla 11g','Chicle Bigtime Menta 11g','Chicle Bigtime Refrescante 11g','Chicle Bigtime Sandia 11g','Chicle Bigtime Strong 11g','Chicle Bigtime Ultra Cleanmint 24g','Chicle Bigtime Ultra Greenmint 24g','Chicle Bigtime Ultra Redberry 24g','Chicle Bigtime Ultra Strong 26g','Chicle Hubba Bubba Tape Original 56g','Chicle Mentos Bot Pure Berry 30g','Chicle Mentos Bot Pure Mint 30g','Chicle Mentos Bot Pure Spearmint 30g','Chicle Mentos Botella Up2U60g','Chicle Orbit Botella Bubblemint 64g','Chicle Orbit Botella Hierbabuena 64g','Chicle Orbit Botella Menta 64g','Chicle Orbit Botella White 64g','Chicle Orbit Bubblemint 14g','Chicle Orbit Eucalipto SA 14g','Chicle Orbit Menta SA 14g','Chicle Orbit Spearmint SA 14g','Chicle Orbit White Menta Suave14g','Chicle Trident Bot Menta 45g','Chicle Trident Botella Fresa 45g','Chicle Trident Botella Yerbabuena 45g','Chicle Trident Fresa 8g','Chicle Trident Infiniti Peppermint 26g','Chicle Trident Infiniti Spearmint 26g','Chicle Trident Menta Suave 8g','Chicle Trident Sandia 8g','Chicle Trident Yerbabuena 8g','Chicle Trident Yerbabuena SA 30g','Choco Cracs 160gr Evercrisp','Chocolate Bon o Bon 30g','Chocolate Costa Rama 115g','Chocolate Ferrero Rocher T-3 37g','Chocolate In Kat 90g','Chocolate Kit Kat Blanco 41g','Chocolate Kit Kat Milk 41g','Chocolate M&M Minis Tubo 30g','Chocolate M&M Peanut 49g','Chocolate M&M Peanut Butter 46g','Chocolate M&M Plain 48g','Chocolate Milka 45g','Chocolate Milka Leche 55g','Chocolate Milky Way 48g','Chocolate Reeses 42g','Chocolate Reeses Blanco 39g','Chocolate Reeses Nutrageous 47g','Chocolate Rocklets 150g','Chocolate Rocklets 35g','Chocolate Rocklets Mani 35g','Chocolate Rolls Blanco 140g','Chocolate Rolls Crispy 130g','Chocolate Rolls Crocante 150g','Chocolate Rolls Nuts 150g','Chocolate Sahne Nuss 250g','Chocolate Sahne Nuss 30g','Chocolate Sahne Nuss 90g','Chocolate Sahne Nuss SA 90g','Chocolate Toblerone Leche 100g','Chocolate Toblerone Leche 200g','Chocolate Trencito 150g','Chocolate Trencito 24g','Chocolate Trencito 80g','Chocolate Trencito Balls 105g','Chocolate Trencito Balls 115g','Chocolate Vizzio 120g','Galleta Morocha Tremenda 80g','Galletas Bañada Chokita 30g','Galletas Bañada Golpe 27g','Galletas Bañada Kitkat Dark 41g','Galletas Bañada Super 8 29g','Galletas Bañada Twix 50g','Galletas Bon o Bon 95g','Galletas Costa Manteq 140g','Galletas Donuts 100g','Galletas Frac Chocolate 110g','Galletas Frac Chocolate 130g','Galletas Frac Clasica 110g','Galletas Frac Clasica 130g','Galletas Frac Vainilla 110g','Galletas Frac Vainilla 130g','Galletas Gretel 85g','Galletas Gretel Chocolate Blanco 85g','Galletas Kuky 120g','Galletas Mckay Grill 140g','Galletas Nik 71g','Galletas Obsesion 85g','Galletas Oreo 108g','Galletas Oreo Chocolate 108g','Galletas Oreo Cookies Cream 108g','Galletas Rigochoc 113g','Galletas Toddy 142g','Galletas Triton Chocolate 126g','Galletas Triton Vainilla 126g','Galletas Tuareg 120g','Gomitas Amberries 25g','Gomitas Ambrosito 25g','Gomitas Chupa Chups Xtrem 57g','Gomitas Flipy 25g','Gomitas Frugele 100g','Gomitas Loop 25g','Halls Extra Strong 27,5g','Halls Mentol 28g','Hersheys Cookies&Creme 77g','Lays Corte Americano 100g','Mani Salado Evercrisp 140g','Mani Salado Marco Polo 150g','Mantecol 41g','Morocha Balls 105g','Papas Crema Ciboulette Marco Polo 180g','Papas Lays Artesanas Merken 150g','Papas Lays Artesanas Sal 150g','Papas Lays Jamon Serrano 180g','Papas Lays Oregano 180g','Papas Lays Stax Cebolla 134g','Papas Lays Stax Cheddar 134g','Papas Lays Stax Original 134g','Papas Marco Polo Jamon Serrano 180g','Papas Marco Polo Rustic Queso Oreg 185g','Papas Marco Polo Rustic Sal Him Pim 185g','Papas MP Corte Americano 230g','Papas MP Rusticas Merken 185g','Papas MP Rusticas Sal 185g','Papas Pringles Cebolla 109g','Papas Pringles Original 104g','Papas Pringles Queso 109g','Rocklets Chocolate 30g','Rocklets Mani 30g','Skittles Wild Berry 61.5 g','Snack Detodito 120g','Snack Doritos 100g','Snack Doritos 285g','Snack Doritos Aji Limon 100g','Snack Flip 30g','Snack Flip Manzana 30g','Snack Flip Mix Vegetales 30g','Snack Nutella & Go 52g','Snack Nutella B Ready 22g','Snack Ramitas Original 110g','Snack Ramitas Original 230g','Snack Ramitas Queso 110g','Snack Ramitas Queso 230g','Snack Twistos Jamon 100g','Snack Twistos Queso 100g','Snacks Doritos Dinamita Flaming Hot 100g','Snacks Doritos Flaming Hot Dinamita 130g','Stick Snack In La Preferida 18g','Tic Tac 100 Menta 49 g','TicTac Diversión de Frutas 49 g','TicTac Naranja 49 g','Turron de Mani 40g','Wild Protein Munchy Mani 30g','Wild Protein Pro Cookies And Cream 60g'],\n",
    "\n",
    "    'Categoria': ['Almacen','Almacen','Almacen','Almacen','Almacen','Almacen','Almacen','Almacen','Cafeteria','Cafeteria','Cafeteria','Cafeteria','Cafeteria','Cafeteria','Cafeteria','Cafeteria','Cafeteria','Cafeteria','Cafeteria','Cafeteria','Cafeteria','Cafeteria','Cafeteria','Cafeteria','Cigarrillos','Cigarrillos','Cigarrillos','Cigarrillos','Cigarrillos','Cigarrillos','Cigarrillos','Cigarrillos','Cigarrillos','Cigarrillos','Cigarrillos','Cigarrillos','Cigarrillos','Cigarrillos','Cigarrillos','Cigarrillos','Cigarrillos','Cigarrillos','Cigarrillos','Cigarrillos','Cigarrillos','Cigarrillos','Cigarrillos','Cigarrillos','Cigarrillos','Cigarrillos','Cigarrillos','Cigarrillos','Cigarrillos','Cigarrillos','Cigarrillos','Cigarrillos','Cigarrillos','Cigarrillos','Cigarrillos','Cigarrillos','Cigarrillos','Cigarrillos','Fast Food','Fast Food','Fast Food','Fast Food','Fast Food','Grab And Go','Grab And Go','Grab And Go','Grab And Go','Grab And Go','Grab And Go','Grab And Go','Grab And Go','Grab And Go','Grab And Go','Grab And Go','Grab And Go','Grab And Go','Grab And Go','Insumos','Insumos','Insumos','Insumos','Insumos','Insumos','Insumos','Insumos','Insumos','Insumos','Insumos','Insumos','Insumos','Insumos','Insumos','Insumos','Insumos','Insumos','Insumos','Insumos','Insumos','Insumos','Insumos','Insumos','Insumos','Insumos','Insumos','Insumos','Insumos','Insumos','Insumos','Insumos','Insumos','Insumos Tienda','Liquidos - Cooler','Liquidos - Cooler','Liquidos - Cooler','Liquidos - Cooler','Liquidos - Cooler','Liquidos - Cooler','Liquidos - Cooler','Liquidos - Cooler','Liquidos - Cooler','Liquidos - Cooler','Liquidos - Cooler','Liquidos - Cooler','Liquidos - Cooler','Liquidos - Cooler','Liquidos - Cooler','Liquidos - Cooler','Liquidos - Cooler','Liquidos - Cooler','Liquidos - Cooler','Liquidos - Cooler','Liquidos - Cooler','Liquidos - Cooler','Liquidos - Cooler','Liquidos - Cooler','Liquidos - Cooler','Liquidos - Cooler','Liquidos - Cooler','Liquidos - Cooler','Liquidos - Cooler','Liquidos - Cooler','Liquidos - Cooler','Liquidos - Cooler','Liquidos - Cooler','Liquidos - Cooler','Liquidos - Cooler','Liquidos - Cooler','Liquidos - Cooler','Liquidos - Cooler','Liquidos - Cooler','Liquidos - Cooler','Liquidos - Cooler','Liquidos - Cooler','Liquidos - Cooler','Liquidos - Cooler','Liquidos - Cooler','Liquidos - Cooler','Liquidos - Cooler','Liquidos - Cooler','Liquidos - Cooler','Liquidos - Cooler','Liquidos - Cooler','Liquidos - Cooler','Liquidos - Cooler','Liquidos - Cooler','Liquidos - Cooler','Liquidos - Cooler','Liquidos - Cooler','Liquidos - Cooler','Liquidos - Cooler','Liquidos - Cooler','Liquidos - Cooler','Liquidos - Cooler','Liquidos - Cooler','Liquidos - Cooler','Liquidos - Cooler','Liquidos - Cooler','Liquidos - Cooler','Liquidos - Cooler','Liquidos - Cooler','Liquidos - Cooler','Liquidos - Cooler','Liquidos - Cooler','Liquidos - Cooler','Liquidos - Cooler','Liquidos - Cooler','Liquidos - Cooler','Liquidos - Cooler','Liquidos - Cooler','Liquidos - Cooler','Liquidos - Cooler','Liquidos - Cooler','Liquidos - Cooler','Liquidos - Cooler','Liquidos - Cooler','Liquidos - Cooler','Liquidos - Cooler','Liquidos - Cooler','Liquidos - Cooler','Liquidos - Cooler','Liquidos - Cooler','Liquidos - Cooler','Liquidos - Cooler','Liquidos - Cooler','Liquidos - Cooler','Liquidos - Cooler','Liquidos - Cooler','Liquidos - Cooler','Liquidos - Cooler','Liquidos - Cooler','Liquidos - Cooler','Liquidos - Cooler','Liquidos - Cooler','Liquidos - Cooler','Liquidos - Cooler','Liquidos - Cooler','Liquidos - Cooler','Liquidos - Cooler','Liquidos - Cooler','Liquidos - Cooler','Liquidos - Cooler','Liquidos - Cooler','Liquidos - Cooler','Liquidos - Cooler','Liquidos - Cooler','Liquidos - Cooler','Liquidos - Cooler','Liquidos - Cooler','Liquidos - Cooler','Liquidos - Cooler','Liquidos - Cooler','Liquidos - Cooler','Liquidos - Cooler','Liquidos - Cooler','Liquidos - Cooler','Liquidos - Cooler','Liquidos - Cooler','Liquidos - Cooler','Liquidos - Cooler','Liquidos - Cooler','Liquidos - Cooler','Liquidos - Cooler','Non Food & In/Out','Non Food & In/Out','Non Food & In/Out','Non Food & In/Out','Non Food & In/Out','Non Food & In/Out','Non Food & In/Out','Non Food & In/Out','Non Food & In/Out','Non Food & In/Out','Non Food & In/Out','Non Food & In/Out','Non Food & In/Out','Non Food & In/Out','Non Food & In/Out','Non Food & In/Out','Non Food & In/Out','Non Food & In/Out','Non Food & In/Out','Non Food & In/Out','Non Food & In/Out','Non Food & In/Out','Non Food & In/Out','Non Food & In/Out','Non Food & In/Out','Non Food & In/Out','Non Food & In/Out','Non Food & In/Out','Non Food & In/Out','Snacks','Snacks','Snacks','Snacks','Snacks','Snacks','Snacks','Snacks','Snacks','Snacks','Snacks','Snacks','Snacks','Snacks','Snacks','Snacks','Snacks','Snacks','Snacks','Snacks','Snacks','Snacks','Snacks','Snacks','Snacks','Snacks','Snacks','Snacks','Snacks','Snacks','Snacks','Snacks','Snacks','Snacks','Snacks','Snacks','Snacks','Snacks','Snacks','Snacks','Snacks','Snacks','Snacks','Snacks','Snacks','Snacks','Snacks','Snacks','Snacks','Snacks','Snacks','Snacks','Snacks','Snacks','Snacks','Snacks','Snacks','Snacks','Snacks','Snacks','Snacks','Snacks','Snacks','Snacks','Snacks','Snacks','Snacks','Snacks','Snacks','Snacks','Snacks','Snacks','Snacks','Snacks','Snacks','Snacks','Snacks','Snacks','Snacks','Snacks','Snacks','Snacks','Snacks','Snacks','Snacks','Snacks','Snacks','Snacks','Snacks','Snacks','Snacks','Snacks','Snacks','Snacks','Snacks','Snacks','Snacks','Snacks','Snacks','Snacks','Snacks','Snacks','Snacks','Snacks','Snacks','Snacks','Snacks','Snacks','Snacks','Snacks','Snacks','Snacks','Snacks','Snacks','Snacks','Snacks','Snacks','Snacks','Snacks','Snacks','Snacks','Snacks','Snacks','Snacks','Snacks','Snacks','Snacks','Snacks','Snacks','Snacks','Snacks','Snacks','Snacks','Snacks','Snacks','Snacks','Snacks','Snacks','Snacks','Snacks','Snacks','Snacks','Snacks','Snacks','Snacks','Snacks','Snacks','Snacks','Snacks','Snacks','Snacks','Snacks','Snacks','Snacks','Snacks','Snacks','Snacks','Snacks','Snacks','Snacks','Snacks','Snacks','Snacks','Snacks','Snacks','Snacks','Snacks','Snacks','Snacks','Snacks','Snacks','Snacks','Snacks','Snacks','Snacks','Snacks','Snacks','Snacks','Snacks','Snacks','Snacks','Snacks','Snacks','Snacks','Snacks','Snacks','Snacks','Snacks','Snacks','Snacks','Snacks','Snacks','Snacks','Snacks','Snacks','Snacks'],\n",
    "\n",
    "    'Tienda': [0,0,0,0,0,0,0,0,0,0,0,0,0,0,0,0,0,0,0,0,0,0,0,0,0,0,0,0,0,0,0,0,0,0,0,0,0,0,0,0,0,0,0,0,0,0,0,0,0,0,0,0,0,0,0,0,0,0,0,0,0,0,0,0,0,0,0,0,0,0,0,0,0,0,0,0,0,0,0,0,0,0,0,0,0,0,0,0,0,0,0,0,0,0,0,0,0,0,0,0,0,0,0,0,0,0,0,0,0,0,0,0,0,0,0,0,0,0,0,0,0,0,0,0,0,0,0,0,0,0,0,0,0,0,0,0,0,0,0,0,0,0,0,0,0,0,0,0,0,0,0,0,0,0,0,0,0,0,0,0,0,0,0,0,0,0,0,0,0,0,0,0,0,0,0,0,0,0,0,0,0,0,0,0,0,0,0,0,0,0,0,0,0,0,0,0,0,0,0,0,0,0,0,0,0,0,0,0,0,0,0,0,0,0,0,0,0,0,0,0,0,0,0,0,0,0,0,0,0,0,0,0,0,0,0,0,0,0,0,0,0,0,0,0,0,0,0,0,0,0,0,0,0,0,0,0,0,0,0,0,0,0,0,0,0,0,0,0,0,0,0,0,0,0,0,0,0,0,0,0,0,0,0,0,0,0,0,0,0,0,0,0,0,0,0,0,0,0,0,0,0,0,0,0,0,0,0,0,0,0,0,0,0,0,0,0,0,0,0,0,0,0,0,0,0,0,0,0,0,0,0,0,0,0,0,0,0,0,0,0,0,0,0,0,0,0,0,0,0,0,0,0,0,0,0,0,0,0,0,0,0,0,0,0,0,0,0,0,0,0,0,0,0,0,0,0,0,0,0,0,0,0,0,0,0,0,0,0,0,0,0,0,0,0,0,0,0,0,0,0,0,0,0,0,0,0,0,0,0,0,0,0,0,0,0,0,0,0,0,0,0,0,0,0,0,0,0,0,0,0,0,0,0,0,0,0,0,0,0,0,0,0,0,0,0,0,0,0,0,0,0,0,0,0,0,0,0,0,0,0,0,0,0,0,0,0,0,0,0,0,0],\n",
    "    'Bodega': [0,0,0,0,0,0,0,0,0,0,0,0,0,0,0,0,0,0,0,0,0,0,0,0,0,0,0,0,0,0,0,0,0,0,0,0,0,0,0,0,0,0,0,0,0,0,0,0,0,0,0,0,0,0,0,0,0,0,0,0,0,0,0,0,0,0,0,0,0,0,0,0,0,0,0,0,0,0,0,0,0,0,0,0,0,0,0,0,0,0,0,0,0,0,0,0,0,0,0,0,0,0,0,0,0,0,0,0,0,0,0,0,0,0,0,0,0,0,0,0,0,0,0,0,0,0,0,0,0,0,0,0,0,0,0,0,0,0,0,0,0,0,0,0,0,0,0,0,0,0,0,0,0,0,0,0,0,0,0,0,0,0,0,0,0,0,0,0,0,0,0,0,0,0,0,0,0,0,0,0,0,0,0,0,0,0,0,0,0,0,0,0,0,0,0,0,0,0,0,0,0,0,0,0,0,0,0,0,0,0,0,0,0,0,0,0,0,0,0,0,0,0,0,0,0,0,0,0,0,0,0,0,0,0,0,0,0,0,0,0,0,0,0,0,0,0,0,0,0,0,0,0,0,0,0,0,0,0,0,0,0,0,0,0,0,0,0,0,0,0,0,0,0,0,0,0,0,0,0,0,0,0,0,0,0,0,0,0,0,0,0,0,0,0,0,0,0,0,0,0,0,0,0,0,0,0,0,0,0,0,0,0,0,0,0,0,0,0,0,0,0,0,0,0,0,0,0,0,0,0,0,0,0,0,0,0,0,0,0,0,0,0,0,0,0,0,0,0,0,0,0,0,0,0,0,0,0,0,0,0,0,0,0,0,0,0,0,0,0,0,0,0,0,0,0,0,0,0,0,0,0,0,0,0,0,0,0,0,0,0,0,0,0,0,0,0,0,0,0,0,0,0,0,0,0,0,0,0,0,0,0,0,0,0,0,0,0,0,0,0,0,0,0,0,0,0,0,0,0,0,0,0,0,0,0,0,0,0,0,0,0,0,0,0,0,0,0,0,0,0,0,0,0,0,0,0,0,0,0,0,0,0,0,0,0,0,0,0,0,0,0],\n",
    "    'Total': [0,0,0,0,0,0,0,0,0,0,0,0,0,0,0,0,0,0,0,0,0,0,0,0,0,0,0,0,0,0,0,0,0,0,0,0,0,0,0,0,0,0,0,0,0,0,0,0,0,0,0,0,0,0,0,0,0,0,0,0,0,0,0,0,0,0,0,0,0,0,0,0,0,0,0,0,0,0,0,0,0,0,0,0,0,0,0,0,0,0,0,0,0,0,0,0,0,0,0,0,0,0,0,0,0,0,0,0,0,0,0,0,0,0,0,0,0,0,0,0,0,0,0,0,0,0,0,0,0,0,0,0,0,0,0,0,0,0,0,0,0,0,0,0,0,0,0,0,0,0,0,0,0,0,0,0,0,0,0,0,0,0,0,0,0,0,0,0,0,0,0,0,0,0,0,0,0,0,0,0,0,0,0,0,0,0,0,0,0,0,0,0,0,0,0,0,0,0,0,0,0,0,0,0,0,0,0,0,0,0,0,0,0,0,0,0,0,0,0,0,0,0,0,0,0,0,0,0,0,0,0,0,0,0,0,0,0,0,0,0,0,0,0,0,0,0,0,0,0,0,0,0,0,0,0,0,0,0,0,0,0,0,0,0,0,0,0,0,0,0,0,0,0,0,0,0,0,0,0,0,0,0,0,0,0,0,0,0,0,0,0,0,0,0,0,0,0,0,0,0,0,0,0,0,0,0,0,0,0,0,0,0,0,0,0,0,0,0,0,0,0,0,0,0,0,0,0,0,0,0,0,0,0,0,0,0,0,0,0,0,0,0,0,0,0,0,0,0,0,0,0,0,0,0,0,0,0,0,0,0,0,0,0,0,0,0,0,0,0,0,0,0,0,0,0,0,0,0,0,0,0,0,0,0,0,0,0,0,0,0,0,0,0,0,0,0,0,0,0,0,0,0,0,0,0,0,0,0,0,0,0,0,0,0,0,0,0,0,0,0,0,0,0,0,0,0,0,0,0,0,0,0,0,0,0,0,0,0,0,0,0,0,0,0,0,0,0,0,0,0,0,0,0,0,0,0,0,0,0,0,0,0,0,0,0,0,0,0,0,0,0],\n",
    "\n",
    "\n",
    "    'Unidad': ['unidad','unidad','unidad','unidad','unidad','unidad','unidad','unidad','unidad','unidad','unidad','unidad','unidad','bolsas','bolsas','unidad','unidad','unidad','unidad','unidad','unidad','unidad','unidad','unidad','unidad','unidad','unidad','unidad','unidad','unidad','unidad','unidad','unidad','unidad','unidad','unidad','unidad','unidad','unidad','unidad','unidad','unidad','unidad','unidad','unidad','unidad','unidad','unidad','unidad','unidad','unidad','unidad','unidad','unidad','unidad','unidad','unidad','unidad','unidad','unidad','unidad','unidad','unidad','unidad','unidad','unidad','unidad','unidad','unidad','unidad','unidad','unidad','unidad','unidad','unidad','unidad','unidad','unidad','unidad','unidad','unidad','unidad','unidad','unidad','unidad','unidad','kilos','kilos','kilos','kilos','kilos','kilos','kilos','kilos','kilos','kilos','unidad','unidad','unidad','unidad','unidad','unidad','unidad','unidad','unidad','unidad','unidad','unidad','unidad','unidad','unidad','unidad','unidad','unidad','unidad','unidad','unidad','unidad','unidad','unidad','unidad','unidad','unidad','unidad','unidad','unidad','unidad','unidad','unidad','unidad','unidad','unidad','unidad','unidad','unidad','unidad','unidad','unidad','unidad','unidad','unidad','unidad','unidad','unidad','unidad','unidad','unidad','unidad','unidad','unidad','unidad','unidad','unidad','unidad','unidad','unidad','unidad','unidad','unidad','unidad','unidad','unidad','unidad','unidad','unidad','unidad','unidad','unidad','unidad','unidad','unidad','unidad','unidad','unidad','unidad','unidad','unidad','unidad','unidad','unidad','unidad','unidad','unidad','unidad','unidad','unidad','unidad','unidad','unidad','unidad','unidad','unidad','unidad','unidad','unidad','unidad','unidad','unidad','unidad','unidad','unidad','unidad','unidad','unidad','unidad','unidad','unidad','unidad','unidad','unidad','unidad','unidad','unidad','unidad','unidad','unidad','unidad','unidad','unidad','unidad','unidad','unidad','unidad','unidad','unidad','unidad','unidad','unidad','unidad','unidad','unidad','unidad','unidad','unidad','unidad','unidad','unidad','unidad','unidad','unidad','unidad','unidad','unidad','unidad','unidad','unidad','unidad','unidad','unidad','unidad','unidad','unidad','unidad','unidad','unidad','unidad','unidad','unidad','unidad','unidad','unidad','unidad','unidad','unidad','unidad','unidad','unidad','unidad','unidad','unidad','unidad','unidad','unidad','unidad','unidad','unidad','unidad','unidad','unidad','unidad','unidad','unidad','unidad','unidad','unidad','unidad','unidad','unidad','unidad','unidad','unidad','unidad','unidad','unidad','unidad','unidad','unidad','unidad','unidad','unidad','unidad','unidad','unidad','unidad','unidad','unidad','unidad','unidad','unidad','unidad','unidad','unidad','unidad','unidad','unidad','unidad','unidad','unidad','unidad','unidad','unidad','unidad','unidad','unidad','unidad','unidad','unidad','unidad','unidad','unidad','unidad','unidad','unidad','unidad','unidad','unidad','unidad','unidad','unidad','unidad','unidad','unidad','unidad','unidad','unidad','unidad','unidad','unidad','unidad','unidad','unidad','unidad','unidad','unidad','unidad','unidad','unidad','unidad','unidad','unidad','unidad','unidad','unidad','unidad','unidad','unidad','unidad','unidad','unidad','unidad','unidad','unidad','unidad','unidad','unidad','unidad','unidad','unidad','unidad','unidad','unidad','unidad','unidad','unidad','unidad','unidad','unidad','unidad','unidad','unidad','unidad','unidad','unidad','unidad','unidad','unidad','unidad','unidad','unidad','unidad','unidad','unidad','unidad','unidad','unidad','unidad','unidad','unidad','unidad','unidad','unidad','unidad','unidad','unidad','unidad','unidad','unidad','unidad','unidad','unidad','unidad','unidad','unidad','unidad','unidad','unidad','unidad','unidad','unidad','unidad','unidad','unidad','unidad','unidad','unidad','unidad','unidad','unidad','unidad','unidad','unidad','unidad','unidad','unidad','unidad','unidad','unidad','unidad','unidad','unidad','unidad','unidad','unidad','unidad','unidad','unidad','unidad','unidad','unidad','unidad','unidad','unidad','unidad','unidad','unidad','unidad','unidad','unidad','unidad','unidad','unidad']\n",
    "\n",
    "\n",
    "}).set_index('SKU')\n"
   ]
  },
  {
   "cell_type": "code",
   "execution_count": 31,
   "id": "953abd37",
   "metadata": {},
   "outputs": [
    {
     "name": "stderr",
     "output_type": "stream",
     "text": [
      "/tmp/ipykernel_1477/3319124611.py:10: FutureWarning: Downcasting object dtype arrays on .fillna, .ffill, .bfill is deprecated and will change in a future version. Call result.infer_objects(copy=False) instead. To opt-in to the future behavior, set `pd.set_option('future.no_silent_downcasting', True)`\n",
      "  pp['Tienda'] = pp['Tienda'].fillna(0).astype(int)\n",
      "/tmp/ipykernel_1477/3319124611.py:11: FutureWarning: Downcasting object dtype arrays on .fillna, .ffill, .bfill is deprecated and will change in a future version. Call result.infer_objects(copy=False) instead. To opt-in to the future behavior, set `pd.set_option('future.no_silent_downcasting', True)`\n",
      "  pp['Bodega'] = pp['Bodega'].fillna(0).astype(int)\n"
     ]
    }
   ],
   "source": [
    "\n",
    "\n",
    "# Leer Excel sin encabezado y asignar la fila 4 como encabezado\n",
    "pp = pd.read_excel(\"ppt.xlsx\", header=None)\n",
    "pp.columns = pp.iloc[4]   # fila 4 (índice 4) como nombres de columnas\n",
    "pp = pp[5:].reset_index(drop=True)  # tomar desde fila 5 hacia abajo, resetear índice\n",
    "pp = pp.loc[:, ~pp.columns.isna()]   # eliminar columnas con nombre NaN\n",
    "\n",
    "pp['SKU'] = pp['SKU'].fillna(0).astype(int)\n",
    "pp = pp[pp['SKU'] != 0]\n",
    "pp.columns = ['Producto', 'Categoria', 'SKU', 'Tienda', 'Bodega', 'Total', 'Unidad']\n",
    "pp['Tienda'] = pp['Tienda'].fillna(0).astype(int)\n",
    "pp['Bodega'] = pp['Bodega'].fillna(0).astype(int)\n",
    "\n",
    "# Asignar índice SKU para poder hacer update basado en índices\n",
    "NuevoID = pp.set_index('SKU')\n",
    "\n",
    "# Actualizar el DataFrame 'data' con los valores del DataFrame 'NuevoID'\n",
    "data.update(NuevoID)"
   ]
  },
  {
   "cell_type": "code",
   "execution_count": 32,
   "id": "145cda2f",
   "metadata": {},
   "outputs": [
    {
     "data": {
      "text/html": [
       "<div>\n",
       "<style scoped>\n",
       "    .dataframe tbody tr th:only-of-type {\n",
       "        vertical-align: middle;\n",
       "    }\n",
       "\n",
       "    .dataframe tbody tr th {\n",
       "        vertical-align: top;\n",
       "    }\n",
       "\n",
       "    .dataframe thead th {\n",
       "        text-align: right;\n",
       "    }\n",
       "</style>\n",
       "<table border=\"1\" class=\"dataframe\">\n",
       "  <thead>\n",
       "    <tr style=\"text-align: right;\">\n",
       "      <th></th>\n",
       "      <th>Producto</th>\n",
       "      <th>Categoria</th>\n",
       "      <th>SKU</th>\n",
       "      <th>Tienda</th>\n",
       "      <th>Bodega</th>\n",
       "      <th>Total</th>\n",
       "      <th>Unidad</th>\n",
       "    </tr>\n",
       "  </thead>\n",
       "  <tbody>\n",
       "    <tr>\n",
       "      <th>0</th>\n",
       "      <td>Hamburguesa Cheddar Bacon Fresco</td>\n",
       "      <td>Grab And Go</td>\n",
       "      <td>31390</td>\n",
       "      <td>1</td>\n",
       "      <td>0</td>\n",
       "      <td>1</td>\n",
       "      <td>unidad</td>\n",
       "    </tr>\n",
       "    <tr>\n",
       "      <th>1</th>\n",
       "      <td>Hamburguesa Classic Cheddar Fresco</td>\n",
       "      <td>Grab And Go</td>\n",
       "      <td>31391</td>\n",
       "      <td>0</td>\n",
       "      <td>0</td>\n",
       "      <td>0</td>\n",
       "      <td>unidad</td>\n",
       "    </tr>\n",
       "    <tr>\n",
       "      <th>2</th>\n",
       "      <td>Miga Ave Pimenton Fresco</td>\n",
       "      <td>Grab And Go</td>\n",
       "      <td>31871</td>\n",
       "      <td>14</td>\n",
       "      <td>0</td>\n",
       "      <td>14</td>\n",
       "      <td>unidad</td>\n",
       "    </tr>\n",
       "    <tr>\n",
       "      <th>3</th>\n",
       "      <td>Miga Ave Mayo Fresco</td>\n",
       "      <td>Grab And Go</td>\n",
       "      <td>31872</td>\n",
       "      <td>5</td>\n",
       "      <td>0</td>\n",
       "      <td>5</td>\n",
       "      <td>unidad</td>\n",
       "    </tr>\n",
       "    <tr>\n",
       "      <th>4</th>\n",
       "      <td>Miga Ave Palta Fresco</td>\n",
       "      <td>Grab And Go</td>\n",
       "      <td>31873</td>\n",
       "      <td>0</td>\n",
       "      <td>0</td>\n",
       "      <td>0</td>\n",
       "      <td>unidad</td>\n",
       "    </tr>\n",
       "  </tbody>\n",
       "</table>\n",
       "</div>"
      ],
      "text/plain": [
       "                             Producto    Categoria    SKU  Tienda  Bodega  \\\n",
       "0    Hamburguesa Cheddar Bacon Fresco  Grab And Go  31390       1       0   \n",
       "1  Hamburguesa Classic Cheddar Fresco  Grab And Go  31391       0       0   \n",
       "2            Miga Ave Pimenton Fresco  Grab And Go  31871      14       0   \n",
       "3                Miga Ave Mayo Fresco  Grab And Go  31872       5       0   \n",
       "4               Miga Ave Palta Fresco  Grab And Go  31873       0       0   \n",
       "\n",
       "  Total  Unidad  \n",
       "0     1  unidad  \n",
       "1     0  unidad  \n",
       "2    14  unidad  \n",
       "3     5  unidad  \n",
       "4     0  unidad  "
      ]
     },
     "execution_count": 32,
     "metadata": {},
     "output_type": "execute_result"
    }
   ],
   "source": [
    "pp.head()"
   ]
  },
  {
   "cell_type": "code",
   "execution_count": 33,
   "id": "abbf02d1",
   "metadata": {},
   "outputs": [
    {
     "name": "stdout",
     "output_type": "stream",
     "text": [
      "<class 'pandas.core.frame.DataFrame'>\n",
      "Index: 471 entries, 31390 to 203035\n",
      "Data columns (total 6 columns):\n",
      " #   Column     Non-Null Count  Dtype \n",
      "---  ------     --------------  ----- \n",
      " 0   Producto   471 non-null    object\n",
      " 1   Categoria  471 non-null    object\n",
      " 2   Tienda     471 non-null    int64 \n",
      " 3   Bodega     471 non-null    int64 \n",
      " 4   Total      471 non-null    object\n",
      " 5   Unidad     471 non-null    object\n",
      "dtypes: int64(2), object(4)\n",
      "memory usage: 41.9+ KB\n"
     ]
    }
   ],
   "source": [
    "NuevoID.info()"
   ]
  },
  {
   "cell_type": "code",
   "execution_count": 34,
   "id": "79e26d58",
   "metadata": {},
   "outputs": [
    {
     "data": {
      "text/html": [
       "<div>\n",
       "<style scoped>\n",
       "    .dataframe tbody tr th:only-of-type {\n",
       "        vertical-align: middle;\n",
       "    }\n",
       "\n",
       "    .dataframe tbody tr th {\n",
       "        vertical-align: top;\n",
       "    }\n",
       "\n",
       "    .dataframe thead th {\n",
       "        text-align: right;\n",
       "    }\n",
       "</style>\n",
       "<table border=\"1\" class=\"dataframe\">\n",
       "  <thead>\n",
       "    <tr style=\"text-align: right;\">\n",
       "      <th></th>\n",
       "      <th>Producto</th>\n",
       "      <th>Categoria</th>\n",
       "      <th>Tienda</th>\n",
       "      <th>Bodega</th>\n",
       "      <th>Total</th>\n",
       "      <th>Unidad</th>\n",
       "    </tr>\n",
       "    <tr>\n",
       "      <th>SKU</th>\n",
       "      <th></th>\n",
       "      <th></th>\n",
       "      <th></th>\n",
       "      <th></th>\n",
       "      <th></th>\n",
       "      <th></th>\n",
       "    </tr>\n",
       "  </thead>\n",
       "  <tbody>\n",
       "    <tr>\n",
       "      <th>31390</th>\n",
       "      <td>Hamburguesa Cheddar Bacon Fresco</td>\n",
       "      <td>Grab And Go</td>\n",
       "      <td>1</td>\n",
       "      <td>0</td>\n",
       "      <td>1</td>\n",
       "      <td>unidad</td>\n",
       "    </tr>\n",
       "    <tr>\n",
       "      <th>31871</th>\n",
       "      <td>Miga Ave Pimenton Fresco</td>\n",
       "      <td>Grab And Go</td>\n",
       "      <td>14</td>\n",
       "      <td>0</td>\n",
       "      <td>14</td>\n",
       "      <td>unidad</td>\n",
       "    </tr>\n",
       "    <tr>\n",
       "      <th>31872</th>\n",
       "      <td>Miga Ave Mayo Fresco</td>\n",
       "      <td>Grab And Go</td>\n",
       "      <td>5</td>\n",
       "      <td>0</td>\n",
       "      <td>5</td>\n",
       "      <td>unidad</td>\n",
       "    </tr>\n",
       "  </tbody>\n",
       "</table>\n",
       "</div>"
      ],
      "text/plain": [
       "                               Producto    Categoria  Tienda  Bodega  Total  \\\n",
       "SKU                                                                           \n",
       "31390  Hamburguesa Cheddar Bacon Fresco  Grab And Go       1       0      1   \n",
       "31871          Miga Ave Pimenton Fresco  Grab And Go      14       0     14   \n",
       "31872              Miga Ave Mayo Fresco  Grab And Go       5       0      5   \n",
       "\n",
       "       Unidad  \n",
       "SKU            \n",
       "31390  unidad  \n",
       "31871  unidad  \n",
       "31872  unidad  "
      ]
     },
     "execution_count": 34,
     "metadata": {},
     "output_type": "execute_result"
    }
   ],
   "source": [
    "data.head()\n"
   ]
  },
  {
   "cell_type": "code",
   "execution_count": null,
   "id": "31d9f94d",
   "metadata": {},
   "outputs": [
    {
     "name": "stdout",
     "output_type": "stream",
     "text": [
      "El archivo no existe.\n"
     ]
    }
   ],
   "source": [
    "#Borradoo()"
   ]
  }
 ],
 "metadata": {
  "kernelspec": {
   "display_name": "Python 3",
   "language": "python",
   "name": "python3"
  },
  "language_info": {
   "codemirror_mode": {
    "name": "ipython",
    "version": 3
   },
   "file_extension": ".py",
   "mimetype": "text/x-python",
   "name": "python",
   "nbconvert_exporter": "python",
   "pygments_lexer": "ipython3",
   "version": "3.11.4"
  }
 },
 "nbformat": 4,
 "nbformat_minor": 5
}
