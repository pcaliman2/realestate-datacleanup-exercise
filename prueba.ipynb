{
 "cells": [
  {
   "cell_type": "code",
   "execution_count": 77,
   "id": "aef850d1",
   "metadata": {},
   "outputs": [],
   "source": [
    "import pandas as pd\n",
    "\n",
    "data = pd.DataFrame({\n",
    "    'SKU': [31390, 31871, 31874],\n",
    "    'BANDEJA': [1, 2, 6],\n",
    "    'Tienda ': [0, 0, 0],\n",
    "    'Bodega ': [0, 0, 0],\n",
    "    'MOVER': [0, 0, 0]\n",
    "\n",
    "}).set_index('SKU')\n",
    "\n",
    "\n",
    "pp = pd.read_excel(\"ppt.xlsx\", header=None)\n",
    "pp.columns = pp.iloc[4]\n",
    "pp = pp[5:].reset_index(drop=True)\n",
    "pp = pp.loc[:, ~pp.columns.isna()]\n",
    "NuevoID = pp.set_index('SKU')\n",
    "data.update(NuevoID)\n",
    "\n"
   ]
  }
 ],
 "metadata": {
  "kernelspec": {
   "display_name": "Python 3",
   "language": "python",
   "name": "python3"
  },
  "language_info": {
   "codemirror_mode": {
    "name": "ipython",
    "version": 3
   },
   "file_extension": ".py",
   "mimetype": "text/x-python",
   "name": "python",
   "nbconvert_exporter": "python",
   "pygments_lexer": "ipython3",
   "version": "3.11.4"
  }
 },
 "nbformat": 4,
 "nbformat_minor": 5
}
