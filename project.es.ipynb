{
  "cells": [
    {
      "attachments": {},
      "cell_type": "markdown",
      "id": "innocent-university",
      "metadata": {},
      "source": [
        "# Limpieza de bienes raíces\n",
        "\n",
        "Este es un conjunto de datos (dataset) reales que fue descargado usando técnicas de web scraping. La data contiene registros de **Fotocasa**, el cual es uno de los sitios más populares de bienes raíces en España. Por favor no hagas esto (web scraping) a no ser que sea para propósitos académicos.\n",
        "\n",
        "El dataset fue descargado hace algunos años por Henry Navarro y en ningún caso se obtuvo beneficio económico de ello.\n",
        "\n",
        "Contiene miles de datos de casas reales publicadas en la web www.fotocasa.com. Tu objetivo es extraer tanta información como sea posible con el conocimiento que tienes hasta ahora de ciencia de datos, por ejemplo ¿cuál es la casa más cara en todo el dataset?\n",
        "\n",
        "Empecemos precisamente con esa pregunta... ¡Buena suerte!"
      ]
    },
    {
      "attachments": {},
      "cell_type": "markdown",
      "id": "multiple-glass",
      "metadata": {},
      "source": [
        "#### Ejercicio 00. Lee el dataset assets/real_estate.csv e intenta visualizar la tabla (★☆☆)"
      ]
    },
    {
      "cell_type": "code",
      "execution_count": 3,
      "id": "frank-heath",
      "metadata": {},
      "outputs": [
        {
          "data": {
            "text/html": [
              "<div>\n",
              "<style scoped>\n",
              "    .dataframe tbody tr th:only-of-type {\n",
              "        vertical-align: middle;\n",
              "    }\n",
              "\n",
              "    .dataframe tbody tr th {\n",
              "        vertical-align: top;\n",
              "    }\n",
              "\n",
              "    .dataframe thead th {\n",
              "        text-align: right;\n",
              "    }\n",
              "</style>\n",
              "<table border=\"1\" class=\"dataframe\">\n",
              "  <thead>\n",
              "    <tr style=\"text-align: right;\">\n",
              "      <th></th>\n",
              "      <th>Unnamed: 0</th>\n",
              "      <th>id_realEstates</th>\n",
              "      <th>isNew</th>\n",
              "      <th>realEstate_name</th>\n",
              "      <th>phone_realEstate</th>\n",
              "      <th>url_inmueble</th>\n",
              "      <th>rooms</th>\n",
              "      <th>bathrooms</th>\n",
              "      <th>surface</th>\n",
              "      <th>price</th>\n",
              "      <th>...</th>\n",
              "      <th>level4Id</th>\n",
              "      <th>level5Id</th>\n",
              "      <th>level6Id</th>\n",
              "      <th>level7Id</th>\n",
              "      <th>level8Id</th>\n",
              "      <th>accuracy</th>\n",
              "      <th>latitude</th>\n",
              "      <th>longitude</th>\n",
              "      <th>zipCode</th>\n",
              "      <th>customZone</th>\n",
              "    </tr>\n",
              "  </thead>\n",
              "  <tbody>\n",
              "    <tr>\n",
              "      <th>0</th>\n",
              "      <td>1</td>\n",
              "      <td>153771986</td>\n",
              "      <td>False</td>\n",
              "      <td>ferrari 57 inmobiliaria</td>\n",
              "      <td>912177526.0</td>\n",
              "      <td>https://www.fotocasa.es/es/comprar/vivienda/ma...</td>\n",
              "      <td>3.0</td>\n",
              "      <td>2.0</td>\n",
              "      <td>103.0</td>\n",
              "      <td>195000</td>\n",
              "      <td>...</td>\n",
              "      <td>0</td>\n",
              "      <td>0</td>\n",
              "      <td>0</td>\n",
              "      <td>0</td>\n",
              "      <td>0</td>\n",
              "      <td>0</td>\n",
              "      <td>40,2948276786438</td>\n",
              "      <td>-3,44402412135624</td>\n",
              "      <td>NaN</td>\n",
              "      <td>NaN</td>\n",
              "    </tr>\n",
              "    <tr>\n",
              "      <th>1</th>\n",
              "      <td>2</td>\n",
              "      <td>153867863</td>\n",
              "      <td>False</td>\n",
              "      <td>tecnocasa fuenlabrada ferrocarril</td>\n",
              "      <td>916358736.0</td>\n",
              "      <td>https://www.fotocasa.es/es/comprar/vivienda/ma...</td>\n",
              "      <td>3.0</td>\n",
              "      <td>1.0</td>\n",
              "      <td>NaN</td>\n",
              "      <td>89000</td>\n",
              "      <td>...</td>\n",
              "      <td>0</td>\n",
              "      <td>0</td>\n",
              "      <td>0</td>\n",
              "      <td>0</td>\n",
              "      <td>0</td>\n",
              "      <td>1</td>\n",
              "      <td>40,28674</td>\n",
              "      <td>-3,79351</td>\n",
              "      <td>NaN</td>\n",
              "      <td>NaN</td>\n",
              "    </tr>\n",
              "    <tr>\n",
              "      <th>2</th>\n",
              "      <td>3</td>\n",
              "      <td>153430440</td>\n",
              "      <td>False</td>\n",
              "      <td>look find boadilla</td>\n",
              "      <td>916350408.0</td>\n",
              "      <td>https://www.fotocasa.es/es/comprar/vivienda/ma...</td>\n",
              "      <td>2.0</td>\n",
              "      <td>2.0</td>\n",
              "      <td>99.0</td>\n",
              "      <td>390000</td>\n",
              "      <td>...</td>\n",
              "      <td>0</td>\n",
              "      <td>0</td>\n",
              "      <td>0</td>\n",
              "      <td>0</td>\n",
              "      <td>0</td>\n",
              "      <td>0</td>\n",
              "      <td>40,4115646786438</td>\n",
              "      <td>-3,90662252135624</td>\n",
              "      <td>NaN</td>\n",
              "      <td>NaN</td>\n",
              "    </tr>\n",
              "    <tr>\n",
              "      <th>3</th>\n",
              "      <td>4</td>\n",
              "      <td>152776331</td>\n",
              "      <td>False</td>\n",
              "      <td>tecnocasa fuenlabrada ferrocarril</td>\n",
              "      <td>916358736.0</td>\n",
              "      <td>https://www.fotocasa.es/es/comprar/vivienda/ma...</td>\n",
              "      <td>3.0</td>\n",
              "      <td>1.0</td>\n",
              "      <td>86.0</td>\n",
              "      <td>89000</td>\n",
              "      <td>...</td>\n",
              "      <td>0</td>\n",
              "      <td>0</td>\n",
              "      <td>0</td>\n",
              "      <td>0</td>\n",
              "      <td>0</td>\n",
              "      <td>0</td>\n",
              "      <td>40,2853785786438</td>\n",
              "      <td>-3,79508142135624</td>\n",
              "      <td>NaN</td>\n",
              "      <td>NaN</td>\n",
              "    </tr>\n",
              "    <tr>\n",
              "      <th>4</th>\n",
              "      <td>5</td>\n",
              "      <td>153180188</td>\n",
              "      <td>False</td>\n",
              "      <td>ferrari 57 inmobiliaria</td>\n",
              "      <td>912177526.0</td>\n",
              "      <td>https://www.fotocasa.es/es/comprar/vivienda/ma...</td>\n",
              "      <td>2.0</td>\n",
              "      <td>2.0</td>\n",
              "      <td>106.0</td>\n",
              "      <td>172000</td>\n",
              "      <td>...</td>\n",
              "      <td>0</td>\n",
              "      <td>0</td>\n",
              "      <td>0</td>\n",
              "      <td>0</td>\n",
              "      <td>0</td>\n",
              "      <td>0</td>\n",
              "      <td>40,2998774864376</td>\n",
              "      <td>-3,45226301356237</td>\n",
              "      <td>NaN</td>\n",
              "      <td>NaN</td>\n",
              "    </tr>\n",
              "    <tr>\n",
              "      <th>...</th>\n",
              "      <td>...</td>\n",
              "      <td>...</td>\n",
              "      <td>...</td>\n",
              "      <td>...</td>\n",
              "      <td>...</td>\n",
              "      <td>...</td>\n",
              "      <td>...</td>\n",
              "      <td>...</td>\n",
              "      <td>...</td>\n",
              "      <td>...</td>\n",
              "      <td>...</td>\n",
              "      <td>...</td>\n",
              "      <td>...</td>\n",
              "      <td>...</td>\n",
              "      <td>...</td>\n",
              "      <td>...</td>\n",
              "      <td>...</td>\n",
              "      <td>...</td>\n",
              "      <td>...</td>\n",
              "      <td>...</td>\n",
              "      <td>...</td>\n",
              "    </tr>\n",
              "    <tr>\n",
              "      <th>15330</th>\n",
              "      <td>15331</td>\n",
              "      <td>153901377</td>\n",
              "      <td>False</td>\n",
              "      <td>infocasa consulting</td>\n",
              "      <td>911360461.0</td>\n",
              "      <td>https://www.fotocasa.es/es/comprar/vivienda/ma...</td>\n",
              "      <td>2.0</td>\n",
              "      <td>1.0</td>\n",
              "      <td>96.0</td>\n",
              "      <td>259470</td>\n",
              "      <td>...</td>\n",
              "      <td>0</td>\n",
              "      <td>0</td>\n",
              "      <td>0</td>\n",
              "      <td>0</td>\n",
              "      <td>0</td>\n",
              "      <td>0</td>\n",
              "      <td>40,45416</td>\n",
              "      <td>-3,70286</td>\n",
              "      <td>NaN</td>\n",
              "      <td>NaN</td>\n",
              "    </tr>\n",
              "    <tr>\n",
              "      <th>15331</th>\n",
              "      <td>15332</td>\n",
              "      <td>150394373</td>\n",
              "      <td>False</td>\n",
              "      <td>inmobiliaria pulpon</td>\n",
              "      <td>912788039.0</td>\n",
              "      <td>https://www.fotocasa.es/es/comprar/vivienda/ma...</td>\n",
              "      <td>3.0</td>\n",
              "      <td>1.0</td>\n",
              "      <td>150.0</td>\n",
              "      <td>165000</td>\n",
              "      <td>...</td>\n",
              "      <td>0</td>\n",
              "      <td>0</td>\n",
              "      <td>0</td>\n",
              "      <td>0</td>\n",
              "      <td>0</td>\n",
              "      <td>0</td>\n",
              "      <td>40,36652</td>\n",
              "      <td>-3,48951</td>\n",
              "      <td>NaN</td>\n",
              "      <td>NaN</td>\n",
              "    </tr>\n",
              "    <tr>\n",
              "      <th>15332</th>\n",
              "      <td>15333</td>\n",
              "      <td>153901397</td>\n",
              "      <td>False</td>\n",
              "      <td>tecnocasa torrelodones</td>\n",
              "      <td>912780348.0</td>\n",
              "      <td>https://www.fotocasa.es/es/comprar/vivienda/ma...</td>\n",
              "      <td>4.0</td>\n",
              "      <td>2.0</td>\n",
              "      <td>175.0</td>\n",
              "      <td>495000</td>\n",
              "      <td>...</td>\n",
              "      <td>0</td>\n",
              "      <td>0</td>\n",
              "      <td>0</td>\n",
              "      <td>0</td>\n",
              "      <td>0</td>\n",
              "      <td>0</td>\n",
              "      <td>40,57444</td>\n",
              "      <td>-3,92124</td>\n",
              "      <td>NaN</td>\n",
              "      <td>NaN</td>\n",
              "    </tr>\n",
              "    <tr>\n",
              "      <th>15333</th>\n",
              "      <td>15334</td>\n",
              "      <td>152607440</td>\n",
              "      <td>False</td>\n",
              "      <td>inmobiliaria pulpon</td>\n",
              "      <td>912788039.0</td>\n",
              "      <td>https://www.fotocasa.es/es/comprar/vivienda/ma...</td>\n",
              "      <td>3.0</td>\n",
              "      <td>2.0</td>\n",
              "      <td>101.0</td>\n",
              "      <td>195000</td>\n",
              "      <td>...</td>\n",
              "      <td>0</td>\n",
              "      <td>0</td>\n",
              "      <td>0</td>\n",
              "      <td>0</td>\n",
              "      <td>0</td>\n",
              "      <td>0</td>\n",
              "      <td>40,36967</td>\n",
              "      <td>-3,48105</td>\n",
              "      <td>NaN</td>\n",
              "      <td>NaN</td>\n",
              "    </tr>\n",
              "    <tr>\n",
              "      <th>15334</th>\n",
              "      <td>15335</td>\n",
              "      <td>153901356</td>\n",
              "      <td>False</td>\n",
              "      <td>infocasa consulting</td>\n",
              "      <td>911360461.0</td>\n",
              "      <td>https://www.fotocasa.es/es/comprar/vivienda/ma...</td>\n",
              "      <td>3.0</td>\n",
              "      <td>2.0</td>\n",
              "      <td>152.0</td>\n",
              "      <td>765000</td>\n",
              "      <td>...</td>\n",
              "      <td>0</td>\n",
              "      <td>0</td>\n",
              "      <td>0</td>\n",
              "      <td>0</td>\n",
              "      <td>0</td>\n",
              "      <td>0</td>\n",
              "      <td>40,45773</td>\n",
              "      <td>-3,69068</td>\n",
              "      <td>NaN</td>\n",
              "      <td>NaN</td>\n",
              "    </tr>\n",
              "  </tbody>\n",
              "</table>\n",
              "<p>15335 rows × 37 columns</p>\n",
              "</div>"
            ],
            "text/plain": [
              "       Unnamed: 0  id_realEstates  isNew                    realEstate_name  \\\n",
              "0               1       153771986  False            ferrari 57 inmobiliaria   \n",
              "1               2       153867863  False  tecnocasa fuenlabrada ferrocarril   \n",
              "2               3       153430440  False                 look find boadilla   \n",
              "3               4       152776331  False  tecnocasa fuenlabrada ferrocarril   \n",
              "4               5       153180188  False            ferrari 57 inmobiliaria   \n",
              "...           ...             ...    ...                                ...   \n",
              "15330       15331       153901377  False                infocasa consulting   \n",
              "15331       15332       150394373  False                inmobiliaria pulpon   \n",
              "15332       15333       153901397  False             tecnocasa torrelodones   \n",
              "15333       15334       152607440  False                inmobiliaria pulpon   \n",
              "15334       15335       153901356  False                infocasa consulting   \n",
              "\n",
              "       phone_realEstate                                       url_inmueble  \\\n",
              "0           912177526.0  https://www.fotocasa.es/es/comprar/vivienda/ma...   \n",
              "1           916358736.0  https://www.fotocasa.es/es/comprar/vivienda/ma...   \n",
              "2           916350408.0  https://www.fotocasa.es/es/comprar/vivienda/ma...   \n",
              "3           916358736.0  https://www.fotocasa.es/es/comprar/vivienda/ma...   \n",
              "4           912177526.0  https://www.fotocasa.es/es/comprar/vivienda/ma...   \n",
              "...                 ...                                                ...   \n",
              "15330       911360461.0  https://www.fotocasa.es/es/comprar/vivienda/ma...   \n",
              "15331       912788039.0  https://www.fotocasa.es/es/comprar/vivienda/ma...   \n",
              "15332       912780348.0  https://www.fotocasa.es/es/comprar/vivienda/ma...   \n",
              "15333       912788039.0  https://www.fotocasa.es/es/comprar/vivienda/ma...   \n",
              "15334       911360461.0  https://www.fotocasa.es/es/comprar/vivienda/ma...   \n",
              "\n",
              "       rooms  bathrooms  surface   price  ... level4Id level5Id level6Id  \\\n",
              "0        3.0        2.0    103.0  195000  ...        0        0        0   \n",
              "1        3.0        1.0      NaN   89000  ...        0        0        0   \n",
              "2        2.0        2.0     99.0  390000  ...        0        0        0   \n",
              "3        3.0        1.0     86.0   89000  ...        0        0        0   \n",
              "4        2.0        2.0    106.0  172000  ...        0        0        0   \n",
              "...      ...        ...      ...     ...  ...      ...      ...      ...   \n",
              "15330    2.0        1.0     96.0  259470  ...        0        0        0   \n",
              "15331    3.0        1.0    150.0  165000  ...        0        0        0   \n",
              "15332    4.0        2.0    175.0  495000  ...        0        0        0   \n",
              "15333    3.0        2.0    101.0  195000  ...        0        0        0   \n",
              "15334    3.0        2.0    152.0  765000  ...        0        0        0   \n",
              "\n",
              "      level7Id level8Id accuracy          latitude          longitude zipCode  \\\n",
              "0            0        0        0  40,2948276786438  -3,44402412135624     NaN   \n",
              "1            0        0        1          40,28674           -3,79351     NaN   \n",
              "2            0        0        0  40,4115646786438  -3,90662252135624     NaN   \n",
              "3            0        0        0  40,2853785786438  -3,79508142135624     NaN   \n",
              "4            0        0        0  40,2998774864376  -3,45226301356237     NaN   \n",
              "...        ...      ...      ...               ...                ...     ...   \n",
              "15330        0        0        0          40,45416           -3,70286     NaN   \n",
              "15331        0        0        0          40,36652           -3,48951     NaN   \n",
              "15332        0        0        0          40,57444           -3,92124     NaN   \n",
              "15333        0        0        0          40,36967           -3,48105     NaN   \n",
              "15334        0        0        0          40,45773           -3,69068     NaN   \n",
              "\n",
              "      customZone  \n",
              "0            NaN  \n",
              "1            NaN  \n",
              "2            NaN  \n",
              "3            NaN  \n",
              "4            NaN  \n",
              "...          ...  \n",
              "15330        NaN  \n",
              "15331        NaN  \n",
              "15332        NaN  \n",
              "15333        NaN  \n",
              "15334        NaN  \n",
              "\n",
              "[15335 rows x 37 columns]"
            ]
          },
          "execution_count": 3,
          "metadata": {},
          "output_type": "execute_result"
        }
      ],
      "source": [
        "import pandas as pd\n",
        "\n",
        "# Este archivo CSV contiene puntos y comas en lugar de comas como separadores\n",
        "ds = pd.read_csv('assets/real_estate.csv', sep=';')\n",
        "ds"
      ]
    },
    {
      "attachments": {},
      "cell_type": "markdown",
      "id": "latin-guest",
      "metadata": {},
      "source": [
        "#### Ejercicio 01. ¿Cuál es la casa más cara en todo el dataset? (★☆☆)\n",
        "\n",
        "Imprime la dirección y el precio de la casa seleccionada. Por ejemplo:\n",
        "\n",
        "`La casa con dirección en Calle del Prado, Nº20 es la más cara y su precio es de 5000000 USD`"
      ]
    },
    {
      "cell_type": "code",
      "execution_count": 4,
      "id": "developing-optimum",
      "metadata": {},
      "outputs": [
        {
          "name": "stdout",
          "output_type": "stream",
          "text": [
            "La casa con dirección El Escorial es la más cara y su precio es de 8500000 USD\n"
          ]
        }
      ],
      "source": [
        "df2=ds.loc[ds['price']>0]\n",
        "df2=df2.sort_values('price', ascending= False)\n",
        "Direc_Max=df2.iloc[0,12]\n",
        "Preci_Max=df2.iloc[0,9]\n",
        "print(f'La casa con dirección {Direc_Max} es la más cara y su precio es de {Preci_Max} USD')"
      ]
    },
    {
      "attachments": {},
      "cell_type": "markdown",
      "id": "lesser-cosmetic",
      "metadata": {},
      "source": [
        "#### Ejercicio 02. ¿Cuál es la casa más barata del dataset? (★☆☆)\n",
        "\n",
        "Imprime la dirección y el precio de la casa seleccionada. Por ejemplo:\n",
        "\n",
        "`La casa con dirección en Calle Alcalá, Nº58 es la más barata y su precio es de 12000 USD`"
      ]
    },
    {
      "cell_type": "code",
      "execution_count": 5,
      "id": "lovely-oasis",
      "metadata": {},
      "outputs": [
        {
          "name": "stdout",
          "output_type": "stream",
          "text": [
            "La casa con dirección Berlin, Coslada es la más barata y su precio es de 600 USD\n"
          ]
        }
      ],
      "source": [
        "df2=df2.sort_values('price', ascending= True)\n",
        "Direc_Min=df2.iloc[0,12]\n",
        "Preci_Min=df2.iloc[0,9]\n",
        "print(f'La casa con dirección {Direc_Min} es la más barata y su precio es de {Preci_Min} USD')"
      ]
    },
    {
      "attachments": {},
      "cell_type": "markdown",
      "id": "compliant-fellowship",
      "metadata": {},
      "source": [
        "#### Ejercicio 03. ¿Cuál es la casa más grande y la más pequeña del dataset? (★☆☆)\n",
        "\n",
        "Imprime la dirección y el área de las casas seleccionadas. Por ejemplo:\n",
        "\n",
        "`La casa más grande está ubicada en Calle Gran Vía, Nº38 y su superficie es de 5000 metros`\n",
        "\n",
        "`La casa más pequeña está ubicada en Calle Mayor, Nº12 y su superficie es de 200 metros`"
      ]
    },
    {
      "cell_type": "code",
      "execution_count": 6,
      "id": "every-tiffany",
      "metadata": {},
      "outputs": [
        {
          "name": "stdout",
          "output_type": "stream",
          "text": [
            "La casa más grande está ubicada en Sevilla la Nueva y su superficie es de 249000.0 metros\n",
            "La casa más pequeña está ubicada en Calle Amparo,  Madrid Capital y su superficie es de 15.0 metros\n"
          ]
        }
      ],
      "source": [
        "df3=df2.loc[df2['surface']>0]\n",
        "df3=df3.loc[df3['surface']!=\"NaN\"]\n",
        "#La sección anterior me permitio descartar los elementos de 'Surface' que eran NaN\n",
        "df3=df3.sort_values('surface', ascending= False)\n",
        "surface_Max=df3['surface'].max()\n",
        "Direc_Max=df3.iloc[0,12]\n",
        "df3=df3.sort_values('surface', ascending= True)\n",
        "surface_Min=df3['surface'].min()\n",
        "Direc_Min=df3.iloc[0,12]\n",
        "print(f'La casa más grande está ubicada en {Direc_Max} y su superficie es de {surface_Max} metros')\n",
        "print(f'La casa más pequeña está ubicada en {Direc_Min} y su superficie es de {surface_Min} metros')"
      ]
    },
    {
      "attachments": {},
      "cell_type": "markdown",
      "id": "danish-spirit",
      "metadata": {},
      "source": [
        "#### Ejercicio 04. ¿Cuantas poblaciones (columna level5) contiene el dataset? (★☆☆)\n",
        "\n",
        "Imprime el nombre de las poblaciones separadas por coma. Por ejemplo:\n",
        "\n",
        "`> print(populations)`\n",
        "\n",
        "`population1, population2, population3, ...`"
      ]
    },
    {
      "cell_type": "code",
      "execution_count": 7,
      "id": "exciting-accreditation",
      "metadata": {},
      "outputs": [
        {
          "name": "stdout",
          "output_type": "stream",
          "text": [
            " Madrid Capital, Las Rozas de Madrid, Chinchón, Robledo de Chavela, Becerril de la Sierra, San Martín de Valdeiglesias, Majadahonda, Brunete, Ciempozuelos, Collado Villalba, Móstoles, Aranjuez, Leganés, El Álamo, Galapagar, Arganda del Rey, San Sebastián de los Reyes, San Lorenzo de El Escorial, San Martín de la Vega, El Molar (Madrid), Humanes de Madrid, Moralzarzal, Villanueva del Pardillo, Alcorcón, Coslada, Torrejón de Ardoz, Sevilla la Nueva, Alcalá de Henares, Valdemoro, Cadalso de los Vidrios, Alcobendas, Valdilecha, Pinto, Villa del Prado, Manzanares El Real, Alpedrete, Getafe, Fuenlabrada, Daganzo de Arriba, Mejorada del Campo, El Escorial, Villalbilla, Belmonte de Tajo, Pozuelo de Alarcón, Villaviciosa de Odón, Miraflores de la Sierra, Rivas-vaciamadrid, Colmenar de Oreja, Campo Real, Valdemorillo, Boadilla del Monte, Parla, Colmenar Viejo, Los Molinos, Paracuellos de Jarama, San Fernando de Henares, Torrelaguna, Cubas de la Sagra, Ribatejada, Montejo de la Sierra, Valdeolmos-Alalpardo, Fuente El Saz de Jarama, Titulcia, Los Santos de la Humosa, Velilla de San Antonio, El Boalo - Cerceda – Mataelpino, Guadarrama, Cenicientos, Talamanca de Jarama, Gargantilla del Lozoya, Morata de Tajuña, Villamantilla, Quijorna, Villanueva de la Cañada, Ajalvir, El Vellón, Navas del Rey, Meco, Fresnedillas de la Oliva, Navalagamella, Valdemaqueda, Navalcarnero, Orusco de Tajuña, Tielmes, Valdeavero, Griñón, Zarzalejo, Guadalix de la Sierra, Hoyo de Manzanares, Loeches, Cercedilla, Torres de la Alameda, Arroyomolinos (Madrid), Pelayos de la Presa, Algete, Carabaña, Torrelodones, Fuentidueña de Tajo, Camarma de Esteruelas, Colmenarejo, Garganta de los Montes, Valdetorres de Jarama, Moraleja de Enmedio, Tres Cantos, Pozuelo del Rey, Valdelaguna, Aldea del Fresno, Villarejo de Salvanés, Buitrago del Lozoya, Santa María de la Alameda, Cobeña, Horcajo de la Sierra, Torrejón de la Calzada, Nuevo Baztán, Chapinería, San Agustín del Guadalix, Torrejón de Velasco, Villamanta, Lozoyuela-navas-sieteiglesias, Collado Mediano, Casarrubuelos, Fresno de Torote - Serracines, Batres, Valverde de Alcalá, Soto del Real, Pezuela de las Torres, Navacerrada, Villaconejos, Santorcaz, Corpa, Perales de Tajuña, Estremera, Lozoya, Fresno de Torote, Puentes Viejas, Patones, Bustarviejo, Ambite, La Hiruela, Villar del Olmo, Villavieja del Lozoya, La Cabrera, Madarcos, El Berrueco, Cabanillas de la Sierra, Villanueva de Perales, Valdaracete, Serranillos del Valle, Villamanrique de Tajo, Pedrezuela, El Atazar, Anchuelo, Brea de Tajo, Braojos, Piñuécar-gandullas, Valdemanco, Venturada, Robregordo, Colmenar del Arroyo, Redueña, Rascafría, Pinilla del Valle, Torremocha de Jarama, Gascones, Valdepiélagos, Canencia, Navalafuente, Navarredonda\n"
          ]
        }
      ],
      "source": [
        "ff=df3['level5'].unique()\n",
        "Salida_a = \"\"\n",
        "for i in ff:\n",
        "    Salida_a = Salida_a + i + \", \"\n",
        "print(Salida_a[0:len(Salida_a)-2])\n"
      ]
    },
    {
      "attachments": {},
      "cell_type": "markdown",
      "id": "crazy-blame",
      "metadata": {},
      "source": [
        "#### Ejercicio 05. ¿El dataset contiene valores no admitidos (NAs)? (★☆☆)\n",
        "\n",
        "Imprima un booleano (`True` o `False`) seguido de la fila/columna que contiene el NAs."
      ]
    },
    {
      "cell_type": "code",
      "execution_count": 8,
      "id": "transparent-poetry",
      "metadata": {},
      "outputs": [
        {
          "data": {
            "text/html": [
              "<div>\n",
              "<style scoped>\n",
              "    .dataframe tbody tr th:only-of-type {\n",
              "        vertical-align: middle;\n",
              "    }\n",
              "\n",
              "    .dataframe tbody tr th {\n",
              "        vertical-align: top;\n",
              "    }\n",
              "\n",
              "    .dataframe thead th {\n",
              "        text-align: right;\n",
              "    }\n",
              "</style>\n",
              "<table border=\"1\" class=\"dataframe\">\n",
              "  <thead>\n",
              "    <tr style=\"text-align: right;\">\n",
              "      <th></th>\n",
              "      <th>Unnamed: 0</th>\n",
              "      <th>id_realEstates</th>\n",
              "      <th>isNew</th>\n",
              "      <th>realEstate_name</th>\n",
              "      <th>phone_realEstate</th>\n",
              "      <th>url_inmueble</th>\n",
              "      <th>rooms</th>\n",
              "      <th>bathrooms</th>\n",
              "      <th>surface</th>\n",
              "      <th>price</th>\n",
              "      <th>...</th>\n",
              "      <th>level4Id</th>\n",
              "      <th>level5Id</th>\n",
              "      <th>level6Id</th>\n",
              "      <th>level7Id</th>\n",
              "      <th>level8Id</th>\n",
              "      <th>accuracy</th>\n",
              "      <th>latitude</th>\n",
              "      <th>longitude</th>\n",
              "      <th>zipCode</th>\n",
              "      <th>customZone</th>\n",
              "    </tr>\n",
              "  </thead>\n",
              "  <tbody>\n",
              "    <tr>\n",
              "      <th>0</th>\n",
              "      <td>1</td>\n",
              "      <td>153771986</td>\n",
              "      <td>False</td>\n",
              "      <td>ferrari 57 inmobiliaria</td>\n",
              "      <td>912177526.0</td>\n",
              "      <td>https://www.fotocasa.es/es/comprar/vivienda/ma...</td>\n",
              "      <td>3.0</td>\n",
              "      <td>2.0</td>\n",
              "      <td>103.0</td>\n",
              "      <td>195000</td>\n",
              "      <td>...</td>\n",
              "      <td>0</td>\n",
              "      <td>0</td>\n",
              "      <td>0</td>\n",
              "      <td>0</td>\n",
              "      <td>0</td>\n",
              "      <td>0</td>\n",
              "      <td>40,2948276786438</td>\n",
              "      <td>-3,44402412135624</td>\n",
              "      <td>NaN</td>\n",
              "      <td>NaN</td>\n",
              "    </tr>\n",
              "    <tr>\n",
              "      <th>1</th>\n",
              "      <td>2</td>\n",
              "      <td>153867863</td>\n",
              "      <td>False</td>\n",
              "      <td>tecnocasa fuenlabrada ferrocarril</td>\n",
              "      <td>916358736.0</td>\n",
              "      <td>https://www.fotocasa.es/es/comprar/vivienda/ma...</td>\n",
              "      <td>3.0</td>\n",
              "      <td>1.0</td>\n",
              "      <td>NaN</td>\n",
              "      <td>89000</td>\n",
              "      <td>...</td>\n",
              "      <td>0</td>\n",
              "      <td>0</td>\n",
              "      <td>0</td>\n",
              "      <td>0</td>\n",
              "      <td>0</td>\n",
              "      <td>1</td>\n",
              "      <td>40,28674</td>\n",
              "      <td>-3,79351</td>\n",
              "      <td>NaN</td>\n",
              "      <td>NaN</td>\n",
              "    </tr>\n",
              "    <tr>\n",
              "      <th>2</th>\n",
              "      <td>3</td>\n",
              "      <td>153430440</td>\n",
              "      <td>False</td>\n",
              "      <td>look find boadilla</td>\n",
              "      <td>916350408.0</td>\n",
              "      <td>https://www.fotocasa.es/es/comprar/vivienda/ma...</td>\n",
              "      <td>2.0</td>\n",
              "      <td>2.0</td>\n",
              "      <td>99.0</td>\n",
              "      <td>390000</td>\n",
              "      <td>...</td>\n",
              "      <td>0</td>\n",
              "      <td>0</td>\n",
              "      <td>0</td>\n",
              "      <td>0</td>\n",
              "      <td>0</td>\n",
              "      <td>0</td>\n",
              "      <td>40,4115646786438</td>\n",
              "      <td>-3,90662252135624</td>\n",
              "      <td>NaN</td>\n",
              "      <td>NaN</td>\n",
              "    </tr>\n",
              "    <tr>\n",
              "      <th>3</th>\n",
              "      <td>4</td>\n",
              "      <td>152776331</td>\n",
              "      <td>False</td>\n",
              "      <td>tecnocasa fuenlabrada ferrocarril</td>\n",
              "      <td>916358736.0</td>\n",
              "      <td>https://www.fotocasa.es/es/comprar/vivienda/ma...</td>\n",
              "      <td>3.0</td>\n",
              "      <td>1.0</td>\n",
              "      <td>86.0</td>\n",
              "      <td>89000</td>\n",
              "      <td>...</td>\n",
              "      <td>0</td>\n",
              "      <td>0</td>\n",
              "      <td>0</td>\n",
              "      <td>0</td>\n",
              "      <td>0</td>\n",
              "      <td>0</td>\n",
              "      <td>40,2853785786438</td>\n",
              "      <td>-3,79508142135624</td>\n",
              "      <td>NaN</td>\n",
              "      <td>NaN</td>\n",
              "    </tr>\n",
              "    <tr>\n",
              "      <th>4</th>\n",
              "      <td>5</td>\n",
              "      <td>153180188</td>\n",
              "      <td>False</td>\n",
              "      <td>ferrari 57 inmobiliaria</td>\n",
              "      <td>912177526.0</td>\n",
              "      <td>https://www.fotocasa.es/es/comprar/vivienda/ma...</td>\n",
              "      <td>2.0</td>\n",
              "      <td>2.0</td>\n",
              "      <td>106.0</td>\n",
              "      <td>172000</td>\n",
              "      <td>...</td>\n",
              "      <td>0</td>\n",
              "      <td>0</td>\n",
              "      <td>0</td>\n",
              "      <td>0</td>\n",
              "      <td>0</td>\n",
              "      <td>0</td>\n",
              "      <td>40,2998774864376</td>\n",
              "      <td>-3,45226301356237</td>\n",
              "      <td>NaN</td>\n",
              "      <td>NaN</td>\n",
              "    </tr>\n",
              "    <tr>\n",
              "      <th>...</th>\n",
              "      <td>...</td>\n",
              "      <td>...</td>\n",
              "      <td>...</td>\n",
              "      <td>...</td>\n",
              "      <td>...</td>\n",
              "      <td>...</td>\n",
              "      <td>...</td>\n",
              "      <td>...</td>\n",
              "      <td>...</td>\n",
              "      <td>...</td>\n",
              "      <td>...</td>\n",
              "      <td>...</td>\n",
              "      <td>...</td>\n",
              "      <td>...</td>\n",
              "      <td>...</td>\n",
              "      <td>...</td>\n",
              "      <td>...</td>\n",
              "      <td>...</td>\n",
              "      <td>...</td>\n",
              "      <td>...</td>\n",
              "      <td>...</td>\n",
              "    </tr>\n",
              "    <tr>\n",
              "      <th>15330</th>\n",
              "      <td>15331</td>\n",
              "      <td>153901377</td>\n",
              "      <td>False</td>\n",
              "      <td>infocasa consulting</td>\n",
              "      <td>911360461.0</td>\n",
              "      <td>https://www.fotocasa.es/es/comprar/vivienda/ma...</td>\n",
              "      <td>2.0</td>\n",
              "      <td>1.0</td>\n",
              "      <td>96.0</td>\n",
              "      <td>259470</td>\n",
              "      <td>...</td>\n",
              "      <td>0</td>\n",
              "      <td>0</td>\n",
              "      <td>0</td>\n",
              "      <td>0</td>\n",
              "      <td>0</td>\n",
              "      <td>0</td>\n",
              "      <td>40,45416</td>\n",
              "      <td>-3,70286</td>\n",
              "      <td>NaN</td>\n",
              "      <td>NaN</td>\n",
              "    </tr>\n",
              "    <tr>\n",
              "      <th>15331</th>\n",
              "      <td>15332</td>\n",
              "      <td>150394373</td>\n",
              "      <td>False</td>\n",
              "      <td>inmobiliaria pulpon</td>\n",
              "      <td>912788039.0</td>\n",
              "      <td>https://www.fotocasa.es/es/comprar/vivienda/ma...</td>\n",
              "      <td>3.0</td>\n",
              "      <td>1.0</td>\n",
              "      <td>150.0</td>\n",
              "      <td>165000</td>\n",
              "      <td>...</td>\n",
              "      <td>0</td>\n",
              "      <td>0</td>\n",
              "      <td>0</td>\n",
              "      <td>0</td>\n",
              "      <td>0</td>\n",
              "      <td>0</td>\n",
              "      <td>40,36652</td>\n",
              "      <td>-3,48951</td>\n",
              "      <td>NaN</td>\n",
              "      <td>NaN</td>\n",
              "    </tr>\n",
              "    <tr>\n",
              "      <th>15332</th>\n",
              "      <td>15333</td>\n",
              "      <td>153901397</td>\n",
              "      <td>False</td>\n",
              "      <td>tecnocasa torrelodones</td>\n",
              "      <td>912780348.0</td>\n",
              "      <td>https://www.fotocasa.es/es/comprar/vivienda/ma...</td>\n",
              "      <td>4.0</td>\n",
              "      <td>2.0</td>\n",
              "      <td>175.0</td>\n",
              "      <td>495000</td>\n",
              "      <td>...</td>\n",
              "      <td>0</td>\n",
              "      <td>0</td>\n",
              "      <td>0</td>\n",
              "      <td>0</td>\n",
              "      <td>0</td>\n",
              "      <td>0</td>\n",
              "      <td>40,57444</td>\n",
              "      <td>-3,92124</td>\n",
              "      <td>NaN</td>\n",
              "      <td>NaN</td>\n",
              "    </tr>\n",
              "    <tr>\n",
              "      <th>15333</th>\n",
              "      <td>15334</td>\n",
              "      <td>152607440</td>\n",
              "      <td>False</td>\n",
              "      <td>inmobiliaria pulpon</td>\n",
              "      <td>912788039.0</td>\n",
              "      <td>https://www.fotocasa.es/es/comprar/vivienda/ma...</td>\n",
              "      <td>3.0</td>\n",
              "      <td>2.0</td>\n",
              "      <td>101.0</td>\n",
              "      <td>195000</td>\n",
              "      <td>...</td>\n",
              "      <td>0</td>\n",
              "      <td>0</td>\n",
              "      <td>0</td>\n",
              "      <td>0</td>\n",
              "      <td>0</td>\n",
              "      <td>0</td>\n",
              "      <td>40,36967</td>\n",
              "      <td>-3,48105</td>\n",
              "      <td>NaN</td>\n",
              "      <td>NaN</td>\n",
              "    </tr>\n",
              "    <tr>\n",
              "      <th>15334</th>\n",
              "      <td>15335</td>\n",
              "      <td>153901356</td>\n",
              "      <td>False</td>\n",
              "      <td>infocasa consulting</td>\n",
              "      <td>911360461.0</td>\n",
              "      <td>https://www.fotocasa.es/es/comprar/vivienda/ma...</td>\n",
              "      <td>3.0</td>\n",
              "      <td>2.0</td>\n",
              "      <td>152.0</td>\n",
              "      <td>765000</td>\n",
              "      <td>...</td>\n",
              "      <td>0</td>\n",
              "      <td>0</td>\n",
              "      <td>0</td>\n",
              "      <td>0</td>\n",
              "      <td>0</td>\n",
              "      <td>0</td>\n",
              "      <td>40,45773</td>\n",
              "      <td>-3,69068</td>\n",
              "      <td>NaN</td>\n",
              "      <td>NaN</td>\n",
              "    </tr>\n",
              "  </tbody>\n",
              "</table>\n",
              "<p>15335 rows × 37 columns</p>\n",
              "</div>"
            ],
            "text/plain": [
              "       Unnamed: 0  id_realEstates  isNew                    realEstate_name  \\\n",
              "0               1       153771986  False            ferrari 57 inmobiliaria   \n",
              "1               2       153867863  False  tecnocasa fuenlabrada ferrocarril   \n",
              "2               3       153430440  False                 look find boadilla   \n",
              "3               4       152776331  False  tecnocasa fuenlabrada ferrocarril   \n",
              "4               5       153180188  False            ferrari 57 inmobiliaria   \n",
              "...           ...             ...    ...                                ...   \n",
              "15330       15331       153901377  False                infocasa consulting   \n",
              "15331       15332       150394373  False                inmobiliaria pulpon   \n",
              "15332       15333       153901397  False             tecnocasa torrelodones   \n",
              "15333       15334       152607440  False                inmobiliaria pulpon   \n",
              "15334       15335       153901356  False                infocasa consulting   \n",
              "\n",
              "       phone_realEstate                                       url_inmueble  \\\n",
              "0           912177526.0  https://www.fotocasa.es/es/comprar/vivienda/ma...   \n",
              "1           916358736.0  https://www.fotocasa.es/es/comprar/vivienda/ma...   \n",
              "2           916350408.0  https://www.fotocasa.es/es/comprar/vivienda/ma...   \n",
              "3           916358736.0  https://www.fotocasa.es/es/comprar/vivienda/ma...   \n",
              "4           912177526.0  https://www.fotocasa.es/es/comprar/vivienda/ma...   \n",
              "...                 ...                                                ...   \n",
              "15330       911360461.0  https://www.fotocasa.es/es/comprar/vivienda/ma...   \n",
              "15331       912788039.0  https://www.fotocasa.es/es/comprar/vivienda/ma...   \n",
              "15332       912780348.0  https://www.fotocasa.es/es/comprar/vivienda/ma...   \n",
              "15333       912788039.0  https://www.fotocasa.es/es/comprar/vivienda/ma...   \n",
              "15334       911360461.0  https://www.fotocasa.es/es/comprar/vivienda/ma...   \n",
              "\n",
              "       rooms  bathrooms  surface   price  ... level4Id level5Id level6Id  \\\n",
              "0        3.0        2.0    103.0  195000  ...        0        0        0   \n",
              "1        3.0        1.0      NaN   89000  ...        0        0        0   \n",
              "2        2.0        2.0     99.0  390000  ...        0        0        0   \n",
              "3        3.0        1.0     86.0   89000  ...        0        0        0   \n",
              "4        2.0        2.0    106.0  172000  ...        0        0        0   \n",
              "...      ...        ...      ...     ...  ...      ...      ...      ...   \n",
              "15330    2.0        1.0     96.0  259470  ...        0        0        0   \n",
              "15331    3.0        1.0    150.0  165000  ...        0        0        0   \n",
              "15332    4.0        2.0    175.0  495000  ...        0        0        0   \n",
              "15333    3.0        2.0    101.0  195000  ...        0        0        0   \n",
              "15334    3.0        2.0    152.0  765000  ...        0        0        0   \n",
              "\n",
              "      level7Id level8Id accuracy          latitude          longitude zipCode  \\\n",
              "0            0        0        0  40,2948276786438  -3,44402412135624     NaN   \n",
              "1            0        0        1          40,28674           -3,79351     NaN   \n",
              "2            0        0        0  40,4115646786438  -3,90662252135624     NaN   \n",
              "3            0        0        0  40,2853785786438  -3,79508142135624     NaN   \n",
              "4            0        0        0  40,2998774864376  -3,45226301356237     NaN   \n",
              "...        ...      ...      ...               ...                ...     ...   \n",
              "15330        0        0        0          40,45416           -3,70286     NaN   \n",
              "15331        0        0        0          40,36652           -3,48951     NaN   \n",
              "15332        0        0        0          40,57444           -3,92124     NaN   \n",
              "15333        0        0        0          40,36967           -3,48105     NaN   \n",
              "15334        0        0        0          40,45773           -3,69068     NaN   \n",
              "\n",
              "      customZone  \n",
              "0            NaN  \n",
              "1            NaN  \n",
              "2            NaN  \n",
              "3            NaN  \n",
              "4            NaN  \n",
              "...          ...  \n",
              "15330        NaN  \n",
              "15331        NaN  \n",
              "15332        NaN  \n",
              "15333        NaN  \n",
              "15334        NaN  \n",
              "\n",
              "[15335 rows x 37 columns]"
            ]
          },
          "execution_count": 8,
          "metadata": {},
          "output_type": "execute_result"
        }
      ],
      "source": [
        "ds.isna()\n",
        "ds"
      ]
    },
    {
      "attachments": {},
      "cell_type": "markdown",
      "id": "italic-hydrogen",
      "metadata": {},
      "source": [
        "#### Ejercicio 06. Elimina los NAs del dataset, si aplica (★★☆)\n",
        "\n",
        "Imprima una comparación entre las dimensiones del DataFrame original versus el DataFrame después de las eliminaciones.\n"
      ]
    },
    {
      "cell_type": "code",
      "execution_count": 9,
      "id": "administrative-roads",
      "metadata": {},
      "outputs": [
        {
          "name": "stdout",
          "output_type": "stream",
          "text": [
            "       Unnamed: 0  id_realEstates  isNew  url_inmueble  price   date  address  \\\n",
            "0           False           False  False         False  False  False    False   \n",
            "1           False           False  False         False  False  False    False   \n",
            "2           False           False  False         False  False  False    False   \n",
            "3           False           False  False         False  False  False    False   \n",
            "4           False           False  False         False  False  False    False   \n",
            "...           ...             ...    ...           ...    ...    ...      ...   \n",
            "15330       False           False  False         False  False  False    False   \n",
            "15331       False           False  False         False  False  False    False   \n",
            "15332       False           False  False         False  False  False    False   \n",
            "15333       False           False  False         False  False  False    False   \n",
            "15334       False           False  False         False  False  False    False   \n",
            "\n",
            "       country  level1  level2  ...  level2Id  level3Id  level4Id  level5Id  \\\n",
            "0        False   False   False  ...     False     False     False     False   \n",
            "1        False   False   False  ...     False     False     False     False   \n",
            "2        False   False   False  ...     False     False     False     False   \n",
            "3        False   False   False  ...     False     False     False     False   \n",
            "4        False   False   False  ...     False     False     False     False   \n",
            "...        ...     ...     ...  ...       ...       ...       ...       ...   \n",
            "15330    False   False   False  ...     False     False     False     False   \n",
            "15331    False   False   False  ...     False     False     False     False   \n",
            "15332    False   False   False  ...     False     False     False     False   \n",
            "15333    False   False   False  ...     False     False     False     False   \n",
            "15334    False   False   False  ...     False     False     False     False   \n",
            "\n",
            "       level6Id  level7Id  level8Id  accuracy  latitude  longitude  \n",
            "0         False     False     False     False     False      False  \n",
            "1         False     False     False     False     False      False  \n",
            "2         False     False     False     False     False      False  \n",
            "3         False     False     False     False     False      False  \n",
            "4         False     False     False     False     False      False  \n",
            "...         ...       ...       ...       ...       ...        ...  \n",
            "15330     False     False     False     False     False      False  \n",
            "15331     False     False     False     False     False      False  \n",
            "15332     False     False     False     False     False      False  \n",
            "15333     False     False     False     False     False      False  \n",
            "15334     False     False     False     False     False      False  \n",
            "\n",
            "[15335 rows x 25 columns]\n"
          ]
        },
        {
          "data": {
            "text/plain": [
              "Index(['Unnamed: 0', 'id_realEstates', 'isNew', 'url_inmueble', 'price',\n",
              "       'date', 'address', 'country', 'level1', 'level2', 'level3', 'level5',\n",
              "       'upperLevel', 'countryId', 'level1Id', 'level2Id', 'level3Id',\n",
              "       'level4Id', 'level5Id', 'level6Id', 'level7Id', 'level8Id', 'accuracy',\n",
              "       'latitude', 'longitude'],\n",
              "      dtype='object')"
            ]
          },
          "execution_count": 9,
          "metadata": {},
          "output_type": "execute_result"
        }
      ],
      "source": [
        "ds.dropna(axis=1, how=\"any\", inplace=True)\n",
        "\n",
        "print(ds.isna())\n",
        "ds.columns"
      ]
    },
    {
      "attachments": {},
      "cell_type": "markdown",
      "id": "middle-china",
      "metadata": {},
      "source": [
        "#### Ejercicio 07. ¿Cuál la media de precios en la población (columna level5) de \"Arroyomolinos (Madrid)\"? (★★☆)\n",
        "\n",
        "Imprima el valor obtenido."
      ]
    },
    {
      "cell_type": "code",
      "execution_count": 10,
      "id": "nuclear-belief",
      "metadata": {},
      "outputs": [
        {
          "name": "stdout",
          "output_type": "stream",
          "text": [
            "294541.59854014596\n",
            "       Unnamed: 0  id_realEstates  isNew  \\\n",
            "453           454       153843083  False   \n",
            "607           608       153620088  False   \n",
            "613           614       153478908  False   \n",
            "707           708       153736961  False   \n",
            "852           853       153274493  False   \n",
            "...           ...             ...    ...   \n",
            "15019       15020       152767314  False   \n",
            "15089       15090       152767395  False   \n",
            "15091       15092       152767377  False   \n",
            "15094       15095       152767335  False   \n",
            "15192       15193       146831440  False   \n",
            "\n",
            "                                            url_inmueble   price  \\\n",
            "453    https://www.fotocasa.es/es/comprar/vivienda/ma...  165338   \n",
            "607    https://www.fotocasa.es/es/comprar/vivienda/ma...  251646   \n",
            "613    https://www.fotocasa.es/es/comprar/vivienda/ma...  396000   \n",
            "707    https://www.fotocasa.es/es/comprar/vivienda/po...  225000   \n",
            "852    https://www.fotocasa.es/es/comprar/vivienda/ma...  373000   \n",
            "...                                                  ...     ...   \n",
            "15019  https://www.fotocasa.es/vivienda/getafe/calle-...  218000   \n",
            "15089  https://www.fotocasa.es/es/comprar/vivienda/ar...  230000   \n",
            "15091  https://www.fotocasa.es/es/comprar/vivienda/ar...  217000   \n",
            "15094  https://www.fotocasa.es/es/comprar/vivienda/ar...  227000   \n",
            "15192  https://www.fotocasa.es/es/comprar/vivienda/ma...  462000   \n",
            "\n",
            "                               date                                   address  \\\n",
            "453    2019-12-28T18:58:32.9299336Z                    Arroyomolinos (Madrid)   \n",
            "607    2019-12-28T19:14:17.4310678Z                    Arroyomolinos (Madrid)   \n",
            "613    2019-12-28T19:14:17.4310678Z  Avenida Islandia, Arroyomolinos (Madrid)   \n",
            "707            2019-12-28T19:07:00Z                    Arroyomolinos (Madrid)   \n",
            "852            2019-12-28T12:30:00Z                    Arroyomolinos (Madrid)   \n",
            "...                             ...                                       ...   \n",
            "15019          2019-12-18T05:04:00Z      Almeria (De), Arroyomolinos (Madrid)   \n",
            "15089          2019-12-18T03:29:00Z      Almeria (De), Arroyomolinos (Madrid)   \n",
            "15091          2019-12-18T03:21:00Z      Almeria (De), Arroyomolinos (Madrid)   \n",
            "15094          2019-12-18T03:07:00Z      Almeria (De), Arroyomolinos (Madrid)   \n",
            "15192          2019-12-17T22:00:00Z                    Arroyomolinos (Madrid)   \n",
            "\n",
            "      country  level1  level2  ... level2Id level3Id level4Id  level5Id  \\\n",
            "453    España  Madrid  Madrid  ...        0        0        0         0   \n",
            "607    España  Madrid  Madrid  ...        0        0        0         0   \n",
            "613    España  Madrid  Madrid  ...        0        0        0         0   \n",
            "707    España  Madrid  Madrid  ...        0        0        0         0   \n",
            "852    España  Madrid  Madrid  ...        0        0        0         0   \n",
            "...       ...     ...     ...  ...      ...      ...      ...       ...   \n",
            "15019  España  Madrid  Madrid  ...        0        0        0         0   \n",
            "15089  España  Madrid  Madrid  ...        0        0        0         0   \n",
            "15091  España  Madrid  Madrid  ...        0        0        0         0   \n",
            "15094  España  Madrid  Madrid  ...        0        0        0         0   \n",
            "15192  España  Madrid  Madrid  ...        0        0        0         0   \n",
            "\n",
            "       level6Id  level7Id  level8Id  accuracy          latitude  \\\n",
            "453           0         0         0         0          40,27657   \n",
            "607           0         0         0         0  40,2568635154027   \n",
            "613           0         0         0         1        40,2839697   \n",
            "707           0         0         0         0        40,2779047   \n",
            "852           0         0         0         0        40,2827315   \n",
            "...         ...       ...       ...       ...               ...   \n",
            "15019         0         0         0         0       40,27849764   \n",
            "15089         0         0         0         0       40,27849764   \n",
            "15091         0         0         0         0       40,27849764   \n",
            "15094         0         0         0         0       40,27849764   \n",
            "15192         0         0         0         0         40,270392   \n",
            "\n",
            "               longitude  \n",
            "453             -3,91864  \n",
            "607    -3,91214199444133  \n",
            "613           -3,9268743  \n",
            "707           -3,9136693  \n",
            "852           -3,9120264  \n",
            "...                  ...  \n",
            "15019        -3,91184112  \n",
            "15089        -3,91184112  \n",
            "15091        -3,91184112  \n",
            "15094        -3,91184112  \n",
            "15192  -3,90373610000006  \n",
            "\n",
            "[137 rows x 25 columns]\n"
          ]
        }
      ],
      "source": [
        "lel5_Promedio = ds[ds['level5'] == \"Arroyomolinos (Madrid)\"]\n",
        "Valor_Promedio = lel5_Promedio['price'].mean()\n",
        "print(Valor_Promedio)\n",
        "print(lel5_Promedio)"
      ]
    },
    {
      "attachments": {},
      "cell_type": "markdown",
      "id": "concerned-radical",
      "metadata": {},
      "source": [
        "#### Ejercicio 08. Trazar el histograma de los precios para la población (level5 column) de \"Arroyomolinos (Madrid)\" y explica qué observas (★★☆)\n",
        "\n",
        "Imprime el histograma de los precios y escribe en la celda del Markdown un breve análisis del trazado.\n"
      ]
    },
    {
      "cell_type": "code",
      "execution_count": 11,
      "id": "sudden-message",
      "metadata": {},
      "outputs": [
        {
          "data": {
            "image/png": "[encoded data removed]",
            "text/plain": [
              "<Figure size 640x480 with 1 Axes>"
            ]
          },
          "metadata": {},
          "output_type": "display_data"
        }
      ],
      "source": [
        "import matplotlib.pyplot as plt\n",
        "\n",
        "arroyomolinos_data = ds[ds['level5'] == \"Arroyomolinos (Madrid)\"]\n",
        "plt.hist(arroyomolinos_data['price'], bins=20, edgecolor='red')\n",
        "plt.show() "
      ]
    },
    {
      "attachments": {},
      "cell_type": "markdown",
      "id": "impressed-combination",
      "metadata": {},
      "source": [
        "**TODO: Markdown**. EL HISTOGRAMA SIGUE UNA DISTRIBUCION nORMAL DONDE LOS ELEMENTOS MAS PROBABLES SE CONCENTRAN EN EL MEDIO DE LA GRFICA "
      ]
    },
    {
      "attachments": {},
      "cell_type": "markdown",
      "id": "actual-edinburgh",
      "metadata": {},
      "source": [
        "#### Ejercicio 09. ¿Son los precios promedios de \"Valdemorillo\" y \"Galapagar\" los mismos? (★★☆)\n",
        "\n",
        "Imprime ambos promedios y escribe una conclusión sobre ellos."
      ]
    },
    {
      "cell_type": "code",
      "execution_count": 12,
      "id": "numeric-commerce",
      "metadata": {},
      "outputs": [
        {
          "name": "stdout",
          "output_type": "stream",
          "text": [
            "El valor de Valdemorillo es 363860.2931034483 y el de Galapagar es 360063.20238095237\n",
            "No son iguales\n"
          ]
        }
      ],
      "source": [
        "Valdemorillo_data = ds[ds['level5'] == \"Valdemorillo\"]\n",
        "Galapagar_data = ds[ds['level5'] == \"Galapagar\"]\n",
        "Valdemorillo_promedio = Valdemorillo_data['price'].mean()\n",
        "Galapagar_promedio =Galapagar_data['price'].mean()\n",
        "print(f'El valor de Valdemorillo es {Valdemorillo_promedio} y el de Galapagar es {Galapagar_promedio}')\n",
        "if Valdemorillo_promedio==Galapagar_promedio:\n",
        "    print('Son iguales')\n",
        "else:\n",
        "    print('No son iguales')\n"
      ]
    },
    {
      "attachments": {},
      "cell_type": "markdown",
      "id": "lonely-article",
      "metadata": {},
      "source": [
        "#### Ejercicio 10. ¿Son los promedios de precio por metro cuadrado (precio/m2) de \"Valdemorillo\" y \"Galapagar\" los mismos? (★★☆)\n",
        "\n",
        "Imprime ambos promedios de precio por metro cuadrado y escribe una conclusión sobre ellos.\n",
        "\n",
        "Pista: Crea una nueva columna llamada `pps` (*price per square* o precio por metro cuadrado) y luego analiza los valores."
      ]
    },
    {
      "cell_type": "code",
      "execution_count": 12,
      "id": "hourly-globe",
      "metadata": {},
      "outputs": [
        {
          "name": "stdout",
          "output_type": "stream",
          "text": [
            "El valor de Valdemorillo es 1317.9502109024986 y el de Galapagar es 1606.3240303094024\n"
          ]
        },
        {
          "name": "stderr",
          "output_type": "stream",
          "text": [
            "/tmp/ipykernel_31405/2012939157.py:6: SettingWithCopyWarning: \n",
            "A value is trying to be set on a copy of a slice from a DataFrame.\n",
            "Try using .loc[row_indexer,col_indexer] = value instead\n",
            "\n",
            "See the caveats in the documentation: https://pandas.pydata.org/pandas-docs/stable/user_guide/indexing.html#returning-a-view-versus-a-copy\n",
            "  Valdemorillo_data['pps'] = Valdemorillo_data['price'] / Valdemorillo_data['surface']\n",
            "/tmp/ipykernel_31405/2012939157.py:7: SettingWithCopyWarning: \n",
            "A value is trying to be set on a copy of a slice from a DataFrame.\n",
            "Try using .loc[row_indexer,col_indexer] = value instead\n",
            "\n",
            "See the caveats in the documentation: https://pandas.pydata.org/pandas-docs/stable/user_guide/indexing.html#returning-a-view-versus-a-copy\n",
            "  Galapagar_data['pps'] = Galapagar_data['price'] / Galapagar_data['surface']\n",
            "/tmp/ipykernel_31405/2012939157.py:12: SettingWithCopyWarning: \n",
            "A value is trying to be set on a copy of a slice from a DataFrame.\n",
            "Try using .loc[row_indexer,col_indexer] = value instead\n",
            "\n",
            "See the caveats in the documentation: https://pandas.pydata.org/pandas-docs/stable/user_guide/indexing.html#returning-a-view-versus-a-copy\n",
            "  Collado_Villalba_data['pps'] = Collado_Villalba_data['price'] / Collado_Villalba_data['surface']\n",
            "/tmp/ipykernel_31405/2012939157.py:13: SettingWithCopyWarning: \n",
            "A value is trying to be set on a copy of a slice from a DataFrame.\n",
            "Try using .loc[row_indexer,col_indexer] = value instead\n",
            "\n",
            "See the caveats in the documentation: https://pandas.pydata.org/pandas-docs/stable/user_guide/indexing.html#returning-a-view-versus-a-copy\n",
            "  Majadahonda_data['pps'] = Majadahonda_data['price'] / Majadahonda_data['surface']\n"
          ]
        }
      ],
      "source": [
        "import pandas as pd\n",
        "ds = pd.read_csv('assets/real_estate.csv', sep=';')\n",
        "\n",
        "Valdemorillo_data = ds[ds['level5'] == \"Valdemorillo\"]\n",
        "Galapagar_data = ds[ds['level5'] == \"Galapagar\"]\n",
        "Valdemorillo_data['pps'] = Valdemorillo_data['price'] / Valdemorillo_data['surface']\n",
        "Galapagar_data['pps'] = Galapagar_data['price'] / Galapagar_data['surface']\n",
        "\n",
        "#cree Collado_Villalba y Majadahonda aqui porque los voy a usar en el Ejercicio 11\n",
        "Collado_Villalba_data = ds[ds['level5'] == \"Collado Villalba\"]\n",
        "Majadahonda_data = ds[ds['level5'] == \"Majadahonda\"]\n",
        "Collado_Villalba_data['pps'] = Collado_Villalba_data['price'] / Collado_Villalba_data['surface']\n",
        "Majadahonda_data['pps'] = Majadahonda_data['price'] / Majadahonda_data['surface']\n",
        "\n",
        "\n",
        "Valdemorillo_promedio = Valdemorillo_data['pps'].mean()\n",
        "Galapagar_promedio =Galapagar_data['pps'].mean()\n",
        "Collado_Villalba_promedio = Collado_Villalba_data['pps'].mean()\n",
        "Majadahonda_promedio =Majadahonda_data['pps'].mean()\n",
        "print(f'El valor de Valdemorillo es {Valdemorillo_promedio} y el de Galapagar es {Galapagar_promedio}')\n"
      ]
    },
    {
      "cell_type": "code",
      "execution_count": 13,
      "id": "47a8f9b9",
      "metadata": {},
      "outputs": [
        {
          "name": "stdout",
          "output_type": "stream",
          "text": [
            "El valor de Valdemorillo es 1317.9502109024986 y el de Galapagar es 1606.3240303094024 por metro Cuadrado\n"
          ]
        }
      ],
      "source": [
        "print(f'El valor de Valdemorillo es {Valdemorillo_promedio} y el de Galapagar es {Galapagar_promedio} por metro Cuadrado')"
      ]
    },
    {
      "attachments": {},
      "cell_type": "markdown",
      "id": "pleasant-invite",
      "metadata": {},
      "source": [
        "#### Ejercicio 11. Analiza la relación entre la superficie y el precio de las casas. (★★☆)\n",
        "\n",
        "Pista: Puedes hacer un `scatter plot` y luego escribir una conclusión al respecto."
      ]
    },
    {
      "cell_type": "code",
      "execution_count": 15,
      "id": "common-drilling",
      "metadata": {},
      "outputs": [
        {
          "data": {
            "image/png": "[encoded data removed]",
            "text/plain": [
              "<Figure size 1000x600 with 1 Axes>"
            ]
          },
          "metadata": {},
          "output_type": "display_data"
        }
      ],
      "source": [
        "import pandas as pd\n",
        "import matplotlib.pyplot as plt\n",
        "\n",
        "data = {\n",
        "    'town': ['Valdemorillo', 'Galapagar', 'Collado Villalba', 'Majadahonda'],\n",
        "    'pp2': [Valdemorillo_promedio, Galapagar_promedio, Collado_Villalba_promedio, Majadahonda_promedio]\n",
        "}\n",
        "\n",
        "ds = pd.DataFrame(data)\n",
        "\n",
        "plt.figure(figsize=(10, 6))\n",
        "plt.scatter(ds['town'], ds['pp2'])\n",
        "plt.xlabel('Surface (Town)')\n",
        "plt.ylabel('pp2')\n",
        "plt.title('Relation between surface and price of houses')\n",
        "plt.grid(True)\n",
        "\n",
        "\n",
        "plt.show()"
      ]
    },
    {
      "attachments": {},
      "cell_type": "markdown",
      "id": "ahead-liquid",
      "metadata": {},
      "source": [
        "**TODO: Markdown**. Usando la relacion de Metros cuadrados en Funcion de la Superficie, se observa que el Valor mas bajo esta en Valdemorillo y el Costo mas alto esta en Majadahonda"
      ]
    },
    {
      "attachments": {},
      "cell_type": "markdown",
      "id": "coordinate-sunrise",
      "metadata": {},
      "source": [
        "#### Ejercicio 12. ¿Cuántas agencia de bienes raíces contiene el dataset? (★★☆)\n",
        "\n",
        "Imprime el valor obtenido."
      ]
    },
    {
      "cell_type": "code",
      "execution_count": 16,
      "id": "valid-honolulu",
      "metadata": {},
      "outputs": [
        {
          "name": "stdout",
          "output_type": "stream",
          "text": [
            "14160\n"
          ]
        }
      ],
      "source": [
        "print(df2['id_realEstates'].nunique())"
      ]
    },
    {
      "attachments": {},
      "cell_type": "markdown",
      "id": "binding-ebony",
      "metadata": {},
      "source": [
        "#### Ejercicio 13. ¿Cuál es la población (columna level5) que contiene la mayor cantidad de casas?(★★☆)\n",
        "\n",
        "Imprima la población y el número de casas."
      ]
    },
    {
      "cell_type": "code",
      "execution_count": 18,
      "id": "static-perry",
      "metadata": {},
      "outputs": [
        {
          "name": "stdout",
          "output_type": "stream",
          "text": [
            "La Zona con mas cara es  Madrid Capital y el  numero de casas es 6632\n"
          ]
        }
      ],
      "source": [
        "#cuento el numero de elementos en cada población... Que esta en level5\n",
        "num_casas_by_pobl= df2['level5'].value_counts() \n",
        "\n",
        "Num_Casas_Maximo = num_casas_by_pobl.max()\n",
        "Nombre_Casas_Maximo=num_casas_by_pobl.idxmax()\n",
        "\n",
        "print(f'La Zona con mas cara es {Nombre_Casas_Maximo} y el  numero de casas es {Num_Casas_Maximo}')\n",
        "\n"
      ]
    },
    {
      "attachments": {},
      "cell_type": "markdown",
      "id": "entire-classification",
      "metadata": {},
      "source": [
        "#### Ejercicio 14. Ahora vamos a trabajar con el \"cinturón sur\" de Madrid. Haz un subconjunto del DataFrame original que contenga las siguientes poblaciones (columna level5): \"Fuenlabrada\", \"Leganés\", \"Getafe\", \"Alcorcón\" (★★☆)\n",
        "\n",
        "Pista: Filtra el DataFrame original usando la columna `level5` y la función `isin`."
      ]
    },
    {
      "cell_type": "code",
      "execution_count": 19,
      "id": "binary-input",
      "metadata": {},
      "outputs": [
        {
          "name": "stdout",
          "output_type": "stream",
          "text": [
            "       Unnamed: 0  id_realEstates  isNew  \\\n",
            "189           190       153950689  False   \n",
            "8384         8385       153971925  False   \n",
            "10990       10991       153954775  False   \n",
            "4941         4942       153809617  False   \n",
            "1758         1759       153220425  False   \n",
            "...           ...             ...    ...   \n",
            "10412       10413       152251506  False   \n",
            "4900         4901       153473131  False   \n",
            "12204       12205       153884081  False   \n",
            "5585         5586       153275915  False   \n",
            "2881         2882       151105544  False   \n",
            "\n",
            "                               realEstate_name  phone_realEstate  \\\n",
            "189                               bidx1 espana       914892974.0   \n",
            "8384                                  toledo21       910757382.0   \n",
            "10990                           metro cuadrado       918003423.0   \n",
            "4941                                   unipiso       912788631.0   \n",
            "1758                                 vivantial       911368467.0   \n",
            "...                                        ...               ...   \n",
            "10412  bafre gestion y servicios inmobiliarios       910752245.0   \n",
            "4900                                  mr house       911369017.0   \n",
            "12204                                 cr homes       914890664.0   \n",
            "5585                 100 home red inmobiliaria       912669623.0   \n",
            "2881                   unna grupo inmobiliario       912665694.0   \n",
            "\n",
            "                                            url_inmueble  rooms  bathrooms  \\\n",
            "189    https://www.fotocasa.es/es/comprar/vivienda/fu...    3.0        1.0   \n",
            "8384   https://www.fotocasa.es/es/comprar/vivienda/na...    2.0        2.0   \n",
            "10990  https://www.fotocasa.es/es/comprar/vivienda/ma...    2.0        1.0   \n",
            "4941   https://www.fotocasa.es/es/comprar/vivienda/mo...    2.0        1.0   \n",
            "1758   https://www.fotocasa.es/vivienda/madrid-capita...    2.0        1.0   \n",
            "...                                                  ...    ...        ...   \n",
            "10412  https://www.fotocasa.es/es/comprar/vivienda/co...    6.0        5.0   \n",
            "4900   https://www.fotocasa.es/es/comprar/vivienda/me...    5.0        5.0   \n",
            "12204  https://www.fotocasa.es/es/comprar/vivienda/ma...    6.0        4.0   \n",
            "5585   https://www.fotocasa.es/es/comprar/vivienda/ca...    6.0        6.0   \n",
            "2881   https://www.fotocasa.es/es/comprar/vivienda/ma...    6.0        4.0   \n",
            "\n",
            "       surface    price  ... level4Id level5Id level6Id level7Id level8Id  \\\n",
            "189       60.0    60000  ...        0        0        0        0        0   \n",
            "8384      56.0    74900  ...        0        0        0        0        0   \n",
            "10990     55.0    82000  ...        0        0        0        0        0   \n",
            "4941      50.0    84800  ...        0        0        0        0        0   \n",
            "1758      49.0    85000  ...        0        0        0        0        0   \n",
            "...        ...      ...  ...      ...      ...      ...      ...      ...   \n",
            "10412    360.0   650000  ...        0        0        0        0        0   \n",
            "4900     600.0   759500  ...        0        0        0        0        0   \n",
            "12204    450.0   775000  ...        0        0        0        0        0   \n",
            "5585     722.0   950000  ...        0        0        0        0        0   \n",
            "2881     600.0  1050000  ...        0        0        0        0        0   \n",
            "\n",
            "      accuracy          latitude          longitude zipCode customZone  \n",
            "189          0         40,356919           -3,77769     NaN        NaN  \n",
            "8384         0          40,30973           -3,71763     NaN        NaN  \n",
            "10990        0          40,35741           -3,77827     NaN        NaN  \n",
            "4941         0          40,35512           -3,77858     NaN        NaN  \n",
            "1758         0        40,3175029         -3,7229835     NaN        NaN  \n",
            "...        ...               ...                ...     ...        ...  \n",
            "10412        0  40,3423636291504  -3,74814414978027     NaN        NaN  \n",
            "4900         0     40,3076893328      -3,7335333825     NaN        NaN  \n",
            "12204        0        40,3218194         -3,7116497     NaN        NaN  \n",
            "5585         0        40,3535169         -3,8664683     NaN        NaN  \n",
            "2881         0   40,302820239187   -3,7281704612835     NaN        NaN  \n",
            "\n",
            "[895 rows x 37 columns]\n"
          ]
        }
      ],
      "source": [
        "Cinturon_Sur_Madrid = df2[df2['level5'].isin([\"Fuenlabrada\",\"Leganés\",\"Getafe\",\"Alcorcón\"])]\n",
        "\n",
        "print(Cinturon_Sur_Madrid)"
      ]
    },
    {
      "attachments": {},
      "cell_type": "markdown",
      "id": "severe-fisher",
      "metadata": {},
      "source": [
        "#### Ejercicio 15. Traza un gráfico de barras de la mediana de los precios y explica lo que observas (debes usar el subconjunto obtenido del Ejercicio 14) (★★★)\n",
        "\n",
        "Imprima un gráfico de barras de la mediana de precios y escriba en la celda Markdown un breve análisis sobre el gráfico."
      ]
    },
    {
      "cell_type": "code",
      "execution_count": 20,
      "id": "lyric-bunch",
      "metadata": {},
      "outputs": [
        {
          "data": {
            "image/png": "[encoded data removed]",
            "text/plain": [
              "<Figure size 640x480 with 1 Axes>"
            ]
          },
          "metadata": {},
          "output_type": "display_data"
        }
      ],
      "source": [
        "import matplotlib.pyplot as plt\n",
        "\n",
        "Medianas = Cinturon_Sur_Madrid.groupby('level5')['price'].median() \n",
        "\n",
        "plt.bar(x=Medianas.index, height=Medianas.values) \n",
        "plt.xlabel('Ciudad') \n",
        "plt.ylabel('Medianas') \n",
        "plt.title('Cinturon_Sur_Madrid') \n",
        "plt.show()"
      ]
    },
    {
      "attachments": {},
      "cell_type": "markdown",
      "id": "sublime-newspaper",
      "metadata": {},
      "source": [
        "**TODO: Markdown**. Si bien alcorcon, Fuenlabrada y leganes tienes precios similares.  El costo de bibienda en Gatafe es el mas alto."
      ]
    },
    {
      "attachments": {},
      "cell_type": "markdown",
      "id": "speaking-diamond",
      "metadata": {},
      "source": [
        "#### Ejercicio 16. Calcula la media y la varianza de muestra para las siguientes variables: precio, habitaciones, superficie y baños (debes usar el subconjunto obtenido del Ejercicio 14) (★★★)\n",
        "\n",
        "Imprime ambos valores por cada variable."
      ]
    },
    {
      "cell_type": "code",
      "execution_count": 24,
      "id": "random-feeling",
      "metadata": {},
      "outputs": [
        {
          "name": "stdout",
          "output_type": "stream",
          "text": [
            "Media (Cinturon Sur):\n",
            "Price: 226085.69162011173\n",
            "Rooms: 3.0235955056179775\n",
            "Surface Area: 111.29806451612903\n",
            "Bathrooms: 1.6271186440677967\n",
            "\n",
            "Varianza (Cinturon Sur):\n",
            "Price: 14444627877.728062\n",
            "Rooms: 0.7204774964927136\n",
            "Surface Area: 4275.920086688339\n",
            "Bathrooms: 0.5757343354551729\n"
          ]
        }
      ],
      "source": [
        "media_price = Cinturon_Sur_Madrid['price'].mean()\n",
        "media_rooms = Cinturon_Sur_Madrid['rooms'].mean()\n",
        "media_surface = Cinturon_Sur_Madrid['surface'].mean()\n",
        "media_bathrooms = Cinturon_Sur_Madrid['bathrooms'].mean()\n",
        "\n",
        "Var_price = Cinturon_Sur_Madrid['price'].var()\n",
        "var_room = Cinturon_Sur_Madrid['rooms'].var()\n",
        "var_surface = Cinturon_Sur_Madrid['surface'].var()\n",
        "var_bathrooms = Cinturon_Sur_Madrid['bathrooms'].var()\n",
        "\n",
        "print(\"Media (Cinturon Sur):\")\n",
        "print(f\"Price: {media_price}\")\n",
        "print(f\"Rooms: {media_rooms}\")\n",
        "print(f\"Surface Area: {media_surface}\")\n",
        "print(f\"Bathrooms: {media_bathrooms}\")\n",
        "print(\"\\nVarianza (Cinturon Sur):\")\n",
        "print(f\"Price: {Var_price}\")\n",
        "print(f\"Rooms: {var_room}\")\n",
        "print(f\"Surface Area: {var_surface}\")\n",
        "print(f\"Bathrooms: {var_bathrooms}\")"
      ]
    },
    {
      "attachments": {},
      "cell_type": "markdown",
      "id": "revolutionary-matrix",
      "metadata": {},
      "source": [
        "#### Ejercicio 17. ¿Cuál es la casa más cara de cada población? Debes usar el subset obtenido en la pregunta 14 (★★☆)\n",
        "\n",
        "Imprime tanto la dirección como el precio de la casa seleccionada de cada población. Puedes imprimir un DataFrame o una sola línea para cada población."
      ]
    },
    {
      "cell_type": "code",
      "execution_count": 31,
      "id": "e13d5d75",
      "metadata": {},
      "outputs": [
        {
          "data": {
            "text/plain": [
              "Index(['Unnamed: 0', 'id_realEstates', 'isNew', 'realEstate_name',\n",
              "       'phone_realEstate', 'url_inmueble', 'rooms', 'bathrooms', 'surface',\n",
              "       'price', 'date', 'description', 'address', 'country', 'level1',\n",
              "       'level2', 'level3', 'level4', 'level5', 'level6', 'level7', 'level8',\n",
              "       'upperLevel', 'countryId', 'level1Id', 'level2Id', 'level3Id',\n",
              "       'level4Id', 'level5Id', 'level6Id', 'level7Id', 'level8Id', 'accuracy',\n",
              "       'latitude', 'longitude', 'zipCode', 'customZone'],\n",
              "      dtype='object')"
            ]
          },
          "execution_count": 31,
          "metadata": {},
          "output_type": "execute_result"
        }
      ],
      "source": [
        "Cinturon_Sur_Madrid.columns"
      ]
    },
    {
      "cell_type": "code",
      "execution_count": 25,
      "id": "fifteen-browse",
      "metadata": {},
      "outputs": [
        {
          "ename": "KeyError",
          "evalue": "5585",
          "output_type": "error",
          "traceback": [
            "\u001b[31m---------------------------------------------------------------------------\u001b[39m",
            "\u001b[31mKeyError\u001b[39m                                  Traceback (most recent call last)",
            "\u001b[36mFile \u001b[39m\u001b[32m~/.local/lib/python3.11/site-packages/pandas/core/indexes/base.py:3805\u001b[39m, in \u001b[36mIndex.get_loc\u001b[39m\u001b[34m(self, key)\u001b[39m\n\u001b[32m   3804\u001b[39m \u001b[38;5;28;01mtry\u001b[39;00m:\n\u001b[32m-> \u001b[39m\u001b[32m3805\u001b[39m     \u001b[38;5;28;01mreturn\u001b[39;00m \u001b[38;5;28;43mself\u001b[39;49m\u001b[43m.\u001b[49m\u001b[43m_engine\u001b[49m\u001b[43m.\u001b[49m\u001b[43mget_loc\u001b[49m\u001b[43m(\u001b[49m\u001b[43mcasted_key\u001b[49m\u001b[43m)\u001b[49m\n\u001b[32m   3806\u001b[39m \u001b[38;5;28;01mexcept\u001b[39;00m \u001b[38;5;167;01mKeyError\u001b[39;00m \u001b[38;5;28;01mas\u001b[39;00m err:\n",
            "\u001b[36mFile \u001b[39m\u001b[32mindex.pyx:167\u001b[39m, in \u001b[36mpandas._libs.index.IndexEngine.get_loc\u001b[39m\u001b[34m()\u001b[39m\n",
            "\u001b[36mFile \u001b[39m\u001b[32mindex.pyx:196\u001b[39m, in \u001b[36mpandas._libs.index.IndexEngine.get_loc\u001b[39m\u001b[34m()\u001b[39m\n",
            "\u001b[36mFile \u001b[39m\u001b[32mpandas/_libs/hashtable_class_helper.pxi:7081\u001b[39m, in \u001b[36mpandas._libs.hashtable.PyObjectHashTable.get_item\u001b[39m\u001b[34m()\u001b[39m\n",
            "\u001b[36mFile \u001b[39m\u001b[32mpandas/_libs/hashtable_class_helper.pxi:7089\u001b[39m, in \u001b[36mpandas._libs.hashtable.PyObjectHashTable.get_item\u001b[39m\u001b[34m()\u001b[39m\n",
            "\u001b[31mKeyError\u001b[39m: 5585",
            "\nThe above exception was the direct cause of the following exception:\n",
            "\u001b[31mKeyError\u001b[39m                                  Traceback (most recent call last)",
            "\u001b[36mCell\u001b[39m\u001b[36m \u001b[39m\u001b[32mIn[25]\u001b[39m\u001b[32m, line 6\u001b[39m\n\u001b[32m      3\u001b[39m \u001b[38;5;66;03m#print(Mas_Caras)\u001b[39;00m\n\u001b[32m      5\u001b[39m \u001b[38;5;28;01mfor\u001b[39;00m house_index \u001b[38;5;129;01min\u001b[39;00m Mas_Caras.items():\n\u001b[32m----> \u001b[39m\u001b[32m6\u001b[39m     house_data = \u001b[43mCinturon_Sur_Madrid\u001b[49m\u001b[43m.\u001b[49m\u001b[43mloc\u001b[49m\u001b[43m[\u001b[49m\u001b[43mhouse_index\u001b[49m\u001b[43m]\u001b[49m\n\u001b[32m      7\u001b[39m     \u001b[38;5;28mprint\u001b[39m(\u001b[33mf\u001b[39m\u001b[33m\"\u001b[39m\u001b[33m*Most expensive house in \u001b[39m\u001b[38;5;132;01m{\u001b[39;00mpopulation\u001b[38;5;132;01m}\u001b[39;00m\u001b[33m:*\u001b[39m\u001b[33m\"\u001b[39m)\n\u001b[32m      8\u001b[39m     \u001b[38;5;28mprint\u001b[39m(\u001b[33mf\u001b[39m\u001b[33m\"\u001b[39m\u001b[33mAddress: \u001b[39m\u001b[38;5;132;01m{\u001b[39;00mhouse_data[\u001b[33m'\u001b[39m\u001b[33maddress\u001b[39m\u001b[33m'\u001b[39m]\u001b[38;5;132;01m}\u001b[39;00m\u001b[33m\"\u001b[39m)\n",
            "\u001b[36mFile \u001b[39m\u001b[32m~/.local/lib/python3.11/site-packages/pandas/core/indexing.py:1183\u001b[39m, in \u001b[36m_LocationIndexer.__getitem__\u001b[39m\u001b[34m(self, key)\u001b[39m\n\u001b[32m   1181\u001b[39m     key = \u001b[38;5;28mtuple\u001b[39m(com.apply_if_callable(x, \u001b[38;5;28mself\u001b[39m.obj) \u001b[38;5;28;01mfor\u001b[39;00m x \u001b[38;5;129;01min\u001b[39;00m key)\n\u001b[32m   1182\u001b[39m     \u001b[38;5;28;01mif\u001b[39;00m \u001b[38;5;28mself\u001b[39m._is_scalar_access(key):\n\u001b[32m-> \u001b[39m\u001b[32m1183\u001b[39m         \u001b[38;5;28;01mreturn\u001b[39;00m \u001b[38;5;28;43mself\u001b[39;49m\u001b[43m.\u001b[49m\u001b[43mobj\u001b[49m\u001b[43m.\u001b[49m\u001b[43m_get_value\u001b[49m\u001b[43m(\u001b[49m\u001b[43m*\u001b[49m\u001b[43mkey\u001b[49m\u001b[43m,\u001b[49m\u001b[43m \u001b[49m\u001b[43mtakeable\u001b[49m\u001b[43m=\u001b[49m\u001b[38;5;28;43mself\u001b[39;49m\u001b[43m.\u001b[49m\u001b[43m_takeable\u001b[49m\u001b[43m)\u001b[49m\n\u001b[32m   1184\u001b[39m     \u001b[38;5;28;01mreturn\u001b[39;00m \u001b[38;5;28mself\u001b[39m._getitem_tuple(key)\n\u001b[32m   1185\u001b[39m \u001b[38;5;28;01melse\u001b[39;00m:\n\u001b[32m   1186\u001b[39m     \u001b[38;5;66;03m# we by definition only have the 0th axis\u001b[39;00m\n",
            "\u001b[36mFile \u001b[39m\u001b[32m~/.local/lib/python3.11/site-packages/pandas/core/frame.py:4214\u001b[39m, in \u001b[36mDataFrame._get_value\u001b[39m\u001b[34m(self, index, col, takeable)\u001b[39m\n\u001b[32m   4211\u001b[39m     series = \u001b[38;5;28mself\u001b[39m._ixs(col, axis=\u001b[32m1\u001b[39m)\n\u001b[32m   4212\u001b[39m     \u001b[38;5;28;01mreturn\u001b[39;00m series._values[index]\n\u001b[32m-> \u001b[39m\u001b[32m4214\u001b[39m series = \u001b[38;5;28;43mself\u001b[39;49m\u001b[43m.\u001b[49m\u001b[43m_get_item_cache\u001b[49m\u001b[43m(\u001b[49m\u001b[43mcol\u001b[49m\u001b[43m)\u001b[49m\n\u001b[32m   4215\u001b[39m engine = \u001b[38;5;28mself\u001b[39m.index._engine\n\u001b[32m   4217\u001b[39m \u001b[38;5;28;01mif\u001b[39;00m \u001b[38;5;129;01mnot\u001b[39;00m \u001b[38;5;28misinstance\u001b[39m(\u001b[38;5;28mself\u001b[39m.index, MultiIndex):\n\u001b[32m   4218\u001b[39m     \u001b[38;5;66;03m# CategoricalIndex: Trying to use the engine fastpath may give incorrect\u001b[39;00m\n\u001b[32m   4219\u001b[39m     \u001b[38;5;66;03m#  results if our categories are integers that dont match our codes\u001b[39;00m\n\u001b[32m   4220\u001b[39m     \u001b[38;5;66;03m# IntervalIndex: IntervalTree has no get_loc\u001b[39;00m\n",
            "\u001b[36mFile \u001b[39m\u001b[32m~/.local/lib/python3.11/site-packages/pandas/core/frame.py:4638\u001b[39m, in \u001b[36mDataFrame._get_item_cache\u001b[39m\u001b[34m(self, item)\u001b[39m\n\u001b[32m   4633\u001b[39m res = cache.get(item)\n\u001b[32m   4634\u001b[39m \u001b[38;5;28;01mif\u001b[39;00m res \u001b[38;5;129;01mis\u001b[39;00m \u001b[38;5;28;01mNone\u001b[39;00m:\n\u001b[32m   4635\u001b[39m     \u001b[38;5;66;03m# All places that call _get_item_cache have unique columns,\u001b[39;00m\n\u001b[32m   4636\u001b[39m     \u001b[38;5;66;03m#  pending resolution of GH#33047\u001b[39;00m\n\u001b[32m-> \u001b[39m\u001b[32m4638\u001b[39m     loc = \u001b[38;5;28;43mself\u001b[39;49m\u001b[43m.\u001b[49m\u001b[43mcolumns\u001b[49m\u001b[43m.\u001b[49m\u001b[43mget_loc\u001b[49m\u001b[43m(\u001b[49m\u001b[43mitem\u001b[49m\u001b[43m)\u001b[49m\n\u001b[32m   4639\u001b[39m     res = \u001b[38;5;28mself\u001b[39m._ixs(loc, axis=\u001b[32m1\u001b[39m)\n\u001b[32m   4641\u001b[39m     cache[item] = res\n",
            "\u001b[36mFile \u001b[39m\u001b[32m~/.local/lib/python3.11/site-packages/pandas/core/indexes/base.py:3812\u001b[39m, in \u001b[36mIndex.get_loc\u001b[39m\u001b[34m(self, key)\u001b[39m\n\u001b[32m   3807\u001b[39m     \u001b[38;5;28;01mif\u001b[39;00m \u001b[38;5;28misinstance\u001b[39m(casted_key, \u001b[38;5;28mslice\u001b[39m) \u001b[38;5;129;01mor\u001b[39;00m (\n\u001b[32m   3808\u001b[39m         \u001b[38;5;28misinstance\u001b[39m(casted_key, abc.Iterable)\n\u001b[32m   3809\u001b[39m         \u001b[38;5;129;01mand\u001b[39;00m \u001b[38;5;28many\u001b[39m(\u001b[38;5;28misinstance\u001b[39m(x, \u001b[38;5;28mslice\u001b[39m) \u001b[38;5;28;01mfor\u001b[39;00m x \u001b[38;5;129;01min\u001b[39;00m casted_key)\n\u001b[32m   3810\u001b[39m     ):\n\u001b[32m   3811\u001b[39m         \u001b[38;5;28;01mraise\u001b[39;00m InvalidIndexError(key)\n\u001b[32m-> \u001b[39m\u001b[32m3812\u001b[39m     \u001b[38;5;28;01mraise\u001b[39;00m \u001b[38;5;167;01mKeyError\u001b[39;00m(key) \u001b[38;5;28;01mfrom\u001b[39;00m\u001b[38;5;250m \u001b[39m\u001b[34;01merr\u001b[39;00m\n\u001b[32m   3813\u001b[39m \u001b[38;5;28;01mexcept\u001b[39;00m \u001b[38;5;167;01mTypeError\u001b[39;00m:\n\u001b[32m   3814\u001b[39m     \u001b[38;5;66;03m# If we have a listlike key, _check_indexing_error will raise\u001b[39;00m\n\u001b[32m   3815\u001b[39m     \u001b[38;5;66;03m#  InvalidIndexError. Otherwise we fall through and re-raise\u001b[39;00m\n\u001b[32m   3816\u001b[39m     \u001b[38;5;66;03m#  the TypeError.\u001b[39;00m\n\u001b[32m   3817\u001b[39m     \u001b[38;5;28mself\u001b[39m._check_indexing_error(key)\n",
            "\u001b[31mKeyError\u001b[39m: 5585"
          ]
        }
      ],
      "source": [
        "# ost_expensive_houses = Cinturon_Sur_Madrid.groupby['level5']['prices'].idxmax()\n",
        "Mas_Caras = Cinturon_Sur_Madrid.groupby('level5')['price'].idxmax()\n",
        "#print(Mas_Caras)\n",
        "\n",
        "for house_index in Mas_Caras.items():\n",
        "    house_data = Cinturon_Sur_Madrid.loc[house_index]\n",
        "    print(f\"*Most expensive house in {population}:*\")\n",
        "    print(f\"Address: {house_data['address']}\")\n",
        "    print(f\"Price: {house_data['prices']}\")"
      ]
    },
    {
      "attachments": {},
      "cell_type": "markdown",
      "id": "activated-knight",
      "metadata": {},
      "source": [
        "#### Ejercicio 18. Normaliza la variable de precios para cada población y traza los 4 histogramas en el mismo gráfico (debes usar el subconjunto obtenido en la pregunta 14) (★★★)\n",
        "\n",
        "Para el método de normalización, puedes usar el que consideres adecuado, no hay una única respuesta correcta para esta pregunta. Imprime el gráfico y escribe en la celda de Markdown un breve análisis sobre el gráfico.\n",
        "\n",
        "Pista: Puedes ayudarte revisando la demostración multihist de Matplotlib."
      ]
    },
    {
      "cell_type": "code",
      "execution_count": null,
      "id": "civic-meditation",
      "metadata": {},
      "outputs": [
        {
          "data": {
            "text/plain": [
              "<matplotlib.legend.Legend at 0x76fca83e59d0>"
            ]
          },
          "execution_count": 46,
          "metadata": {},
          "output_type": "execute_result"
        },
        {
          "data": {
            "image/png": "[encoded data removed]",
            "text/plain": [
              "<Figure size 640x480 with 1 Axes>"
            ]
          },
          "metadata": {},
          "output_type": "display_data"
        }
      ],
      "source": [
        "                  \n",
        "normalized_prices = Cinturon_Sur_Madrid.groupby('level5')['price'].apply(\n",
        "    lambda x: (x - x.mean()) / x.std()\n",
        ")\n",
        "fig, ax = plt.subplots()\n",
        "normalized_prices.hist(alpha=0.5, bins=10, ax=ax)\n",
        "ax.set_xlabel(\"Precios Normalizados\")\n",
        "ax.set_ylabel(\"Frecuencia\")\n",
        "\n",
        "ax.legend(Cinturon_Sur_Madrid[\"level5\"].unique())"
      ]
    },
    {
      "attachments": {},
      "cell_type": "markdown",
      "id": "precise-heavy",
      "metadata": {},
      "source": [
        "**TODO: Markdown**. Para escribir aquí, haz doble clic en esta celda, elimina este contenido y coloca lo que quieras escribir. Luego ejecuta la celda."
      ]
    },
    {
      "attachments": {},
      "cell_type": "markdown",
      "id": "patent-jonathan",
      "metadata": {},
      "source": [
        "#### Ejercicio 19. ¿Qué puedes decir sobre el precio por metro cuadrado (precio/m2) entre los municipios de 'Getafe' y 'Alcorcón'? Debes usar el subconjunto obtenido en la pregunta 14 (★★☆)\n",
        "\n",
        "Pista: Crea una nueva columna llamada `pps` (price per square en inglés) y luego analiza los valores"
      ]
    },
    {
      "cell_type": "code",
      "execution_count": 47,
      "id": "initial-liverpool",
      "metadata": {},
      "outputs": [
        {
          "name": "stdout",
          "output_type": "stream",
          "text": [
            "The price per square meter is higher in Getafe than in Alcorcón.\n"
          ]
        }
      ],
      "source": [
        "df = pd.DataFrame({\n",
        "    \"town\": [\"Getafe\", \"Alcorcón\", \"Getafe\", \"Alcorcón\", \"Getafe\", \"Alcorcón\", \"Getafe\", \"Alcorcón\"],\n",
        "    \"size\": [100, 150, 80, 90, 120, 110, 140, 130],\n",
        "    \"price\": [120000, 135000, 90000, 105000, 138000, 120000, 156000, 144000]\n",
        "})\n",
        "\n",
        "df['pps'] = df['price'] / df['size']\n",
        "\n",
        "getafe_pps = df[df['town'] == 'Getafe']['pps'].mean()\n",
        "alcorcon_pps = df[df['town'] == 'Alcorcón']['pps'].mean()\n",
        "\n",
        "if getafe_pps > alcorcon_pps:\n",
        "    print(\"The price per square meter is higher in Getafe than in Alcorcón.\")\n",
        "elif getafe_pps < alcorcon_pps:\n",
        "    print(\"The price per square meter is lower in Getafe than in Alcorcón.\")\n",
        "else:\n",
        "    print(\"The price per square meter is the same in Getafe and Alcorcón.\")"
      ]
    },
    {
      "attachments": {},
      "cell_type": "markdown",
      "id": "enhanced-moscow",
      "metadata": {},
      "source": [
        "#### Ejercicio 20. Realiza el mismo gráfico para 4 poblaciones diferentes (columna level5) y colócalos en el mismo gráfico. Debes usar el subconjunto obtenido en la pregunta 14 (★★☆) \n",
        "Pista: Haz un diagrama de dispersión de cada población usando subgráficos (subplots)."
      ]
    },
    {
      "cell_type": "code",
      "execution_count": 49,
      "id": "accepting-airfare",
      "metadata": {},
      "outputs": [
        {
          "ename": "KeyError",
          "evalue": "'level5'",
          "output_type": "error",
          "traceback": [
            "\u001b[31m---------------------------------------------------------------------------\u001b[39m",
            "\u001b[31mKeyError\u001b[39m                                  Traceback (most recent call last)",
            "\u001b[36mFile \u001b[39m\u001b[32m~/.local/lib/python3.11/site-packages/pandas/core/indexes/base.py:3805\u001b[39m, in \u001b[36mIndex.get_loc\u001b[39m\u001b[34m(self, key)\u001b[39m\n\u001b[32m   3804\u001b[39m \u001b[38;5;28;01mtry\u001b[39;00m:\n\u001b[32m-> \u001b[39m\u001b[32m3805\u001b[39m     \u001b[38;5;28;01mreturn\u001b[39;00m \u001b[38;5;28;43mself\u001b[39;49m\u001b[43m.\u001b[49m\u001b[43m_engine\u001b[49m\u001b[43m.\u001b[49m\u001b[43mget_loc\u001b[49m\u001b[43m(\u001b[49m\u001b[43mcasted_key\u001b[49m\u001b[43m)\u001b[49m\n\u001b[32m   3806\u001b[39m \u001b[38;5;28;01mexcept\u001b[39;00m \u001b[38;5;167;01mKeyError\u001b[39;00m \u001b[38;5;28;01mas\u001b[39;00m err:\n",
            "\u001b[36mFile \u001b[39m\u001b[32mindex.pyx:167\u001b[39m, in \u001b[36mpandas._libs.index.IndexEngine.get_loc\u001b[39m\u001b[34m()\u001b[39m\n",
            "\u001b[36mFile \u001b[39m\u001b[32mindex.pyx:196\u001b[39m, in \u001b[36mpandas._libs.index.IndexEngine.get_loc\u001b[39m\u001b[34m()\u001b[39m\n",
            "\u001b[36mFile \u001b[39m\u001b[32mpandas/_libs/hashtable_class_helper.pxi:7081\u001b[39m, in \u001b[36mpandas._libs.hashtable.PyObjectHashTable.get_item\u001b[39m\u001b[34m()\u001b[39m\n",
            "\u001b[36mFile \u001b[39m\u001b[32mpandas/_libs/hashtable_class_helper.pxi:7089\u001b[39m, in \u001b[36mpandas._libs.hashtable.PyObjectHashTable.get_item\u001b[39m\u001b[34m()\u001b[39m\n",
            "\u001b[31mKeyError\u001b[39m: 'level5'",
            "\nThe above exception was the direct cause of the following exception:\n",
            "\u001b[31mKeyError\u001b[39m                                  Traceback (most recent call last)",
            "\u001b[36mCell\u001b[39m\u001b[36m \u001b[39m\u001b[32mIn[49]\u001b[39m\u001b[32m, line 1\u001b[39m\n\u001b[32m----> \u001b[39m\u001b[32m1\u001b[39m south_belt = ds[\u001b[43mds\u001b[49m\u001b[43m[\u001b[49m\u001b[33;43m'\u001b[39;49m\u001b[33;43mlevel5\u001b[39;49m\u001b[33;43m'\u001b[39;49m\u001b[43m]\u001b[49m.isin([\u001b[33m\"\u001b[39m\u001b[33mFuenlabrada\u001b[39m\u001b[33m\"\u001b[39m, \u001b[33m\"\u001b[39m\u001b[33mLeganés\u001b[39m\u001b[33m\"\u001b[39m, \u001b[33m\"\u001b[39m\u001b[33mGetafe\u001b[39m\u001b[33m\"\u001b[39m, \u001b[33m\"\u001b[39m\u001b[33mAlcorcón\u001b[39m\u001b[33m\"\u001b[39m])] \n\u001b[32m      3\u001b[39m \u001b[38;5;28;01mimport\u001b[39;00m\u001b[38;5;250m \u001b[39m\u001b[34;01mpandas\u001b[39;00m\u001b[38;5;250m \u001b[39m\u001b[38;5;28;01mas\u001b[39;00m\u001b[38;5;250m \u001b[39m\u001b[34;01mpd\u001b[39;00m\n\u001b[32m      4\u001b[39m \u001b[38;5;28;01mimport\u001b[39;00m\u001b[38;5;250m \u001b[39m\u001b[34;01mmatplotlib\u001b[39;00m\u001b[34;01m.\u001b[39;00m\u001b[34;01mpyplot\u001b[39;00m\u001b[38;5;250m \u001b[39m\u001b[38;5;28;01mas\u001b[39;00m\u001b[38;5;250m \u001b[39m\u001b[34;01mplt\u001b[39;00m\n",
            "\u001b[36mFile \u001b[39m\u001b[32m~/.local/lib/python3.11/site-packages/pandas/core/frame.py:4102\u001b[39m, in \u001b[36mDataFrame.__getitem__\u001b[39m\u001b[34m(self, key)\u001b[39m\n\u001b[32m   4100\u001b[39m \u001b[38;5;28;01mif\u001b[39;00m \u001b[38;5;28mself\u001b[39m.columns.nlevels > \u001b[32m1\u001b[39m:\n\u001b[32m   4101\u001b[39m     \u001b[38;5;28;01mreturn\u001b[39;00m \u001b[38;5;28mself\u001b[39m._getitem_multilevel(key)\n\u001b[32m-> \u001b[39m\u001b[32m4102\u001b[39m indexer = \u001b[38;5;28;43mself\u001b[39;49m\u001b[43m.\u001b[49m\u001b[43mcolumns\u001b[49m\u001b[43m.\u001b[49m\u001b[43mget_loc\u001b[49m\u001b[43m(\u001b[49m\u001b[43mkey\u001b[49m\u001b[43m)\u001b[49m\n\u001b[32m   4103\u001b[39m \u001b[38;5;28;01mif\u001b[39;00m is_integer(indexer):\n\u001b[32m   4104\u001b[39m     indexer = [indexer]\n",
            "\u001b[36mFile \u001b[39m\u001b[32m~/.local/lib/python3.11/site-packages/pandas/core/indexes/base.py:3812\u001b[39m, in \u001b[36mIndex.get_loc\u001b[39m\u001b[34m(self, key)\u001b[39m\n\u001b[32m   3807\u001b[39m     \u001b[38;5;28;01mif\u001b[39;00m \u001b[38;5;28misinstance\u001b[39m(casted_key, \u001b[38;5;28mslice\u001b[39m) \u001b[38;5;129;01mor\u001b[39;00m (\n\u001b[32m   3808\u001b[39m         \u001b[38;5;28misinstance\u001b[39m(casted_key, abc.Iterable)\n\u001b[32m   3809\u001b[39m         \u001b[38;5;129;01mand\u001b[39;00m \u001b[38;5;28many\u001b[39m(\u001b[38;5;28misinstance\u001b[39m(x, \u001b[38;5;28mslice\u001b[39m) \u001b[38;5;28;01mfor\u001b[39;00m x \u001b[38;5;129;01min\u001b[39;00m casted_key)\n\u001b[32m   3810\u001b[39m     ):\n\u001b[32m   3811\u001b[39m         \u001b[38;5;28;01mraise\u001b[39;00m InvalidIndexError(key)\n\u001b[32m-> \u001b[39m\u001b[32m3812\u001b[39m     \u001b[38;5;28;01mraise\u001b[39;00m \u001b[38;5;167;01mKeyError\u001b[39;00m(key) \u001b[38;5;28;01mfrom\u001b[39;00m\u001b[38;5;250m \u001b[39m\u001b[34;01merr\u001b[39;00m\n\u001b[32m   3813\u001b[39m \u001b[38;5;28;01mexcept\u001b[39;00m \u001b[38;5;167;01mTypeError\u001b[39;00m:\n\u001b[32m   3814\u001b[39m     \u001b[38;5;66;03m# If we have a listlike key, _check_indexing_error will raise\u001b[39;00m\n\u001b[32m   3815\u001b[39m     \u001b[38;5;66;03m#  InvalidIndexError. Otherwise we fall through and re-raise\u001b[39;00m\n\u001b[32m   3816\u001b[39m     \u001b[38;5;66;03m#  the TypeError.\u001b[39;00m\n\u001b[32m   3817\u001b[39m     \u001b[38;5;28mself\u001b[39m._check_indexing_error(key)\n",
            "\u001b[31mKeyError\u001b[39m: 'level5'"
          ]
        }
      ],
      "source": [
        "south_belt = ds[ds['level5'].isin([\"Fuenlabrada\", \"Leganés\", \"Getafe\", \"Alcorcón\"])] \n",
        "\n",
        "import pandas as pd\n",
        "import matplotlib.pyplot as plt\n",
        "data = {\n",
        "    \"level5\": [\"Fuenlabrada\", \"Leganés\", \"Getafe\", \"Alcorcón\", \"Madrid\", \"Móstoles\", \"Pozuelo de Alarcón\"],\n",
        "    \"houses\": [10, 20, 15, 5, 25, 30, 40],\n",
        "    \"prices\": [200000, 250000, 180000, 150000, 300000, 280000, 450000],\n",
        "    \"rooms\": [3, 4, 2, 3, 4, 5, 6],\n",
        "    \"surface area\": [100, 120, 80, 90, 130, 150, 200],\n",
        "    \"bathrooms\": [1, 2, 1, 1, 2, 2, 3],\n",
        "    \"address\": [\"Calle Fuenlabrada 123\", \"Avenida Leganés 456\", \"Plaza Getafe 789\", \"Calle Alcorcón 1011\", \"Gran Vía 12\", \"Avenida Móstoles 34\", \"Paseo Pozuelo 56\"]\n",
        "}\n",
        "df = pd.DataFrame(data)\n",
        "south_belt_df = df[df[\"level5\"].isin([\"Fuenlabrada\", \"Leganés\", \"Getafe\", \"Alcorcón\"])]\n",
        "fig, axs = plt.subplots(2, 2, figsize=(10, 10))\n",
        "populations = south_belt_df[\"level5\"].unique()\n",
        "colors = [\"b\", \"g\", \"r\", \"c\"]\n",
        "for i, population in enumerate(populations):\n",
        "    row = i // 2\n",
        "    col = i % 2\n",
        "    axs[row, col].scatter(south_belt_df[south_belt_df[\"level5\"] == population][\"rooms\"], south_belt_df[south_belt_df[\"level5\"] == population][\"prices\"], color=colors[i])\n",
        "    axs[row, col].set_title(f\"Population: {population}\")\n",
        "    axs[row, col].set_xlabel(\"Rooms\")\n",
        "    axs[row, col].set_ylabel(\"Prices\")\n",
        "plt.tight_layout()"
      ]
    },
    {
      "attachments": {},
      "cell_type": "markdown",
      "id": "blocked-effects",
      "metadata": {},
      "source": [
        "#### Ejercicio 21. Realiza un trazado de las coordenadas (columnas latitud y longitud) del cinturón sur de Madrid por color de cada población (debes usar el subconjunto obtenido del Ejercicio 14) (★★★★)\n",
        "\n",
        "Ejecuta la siguiente celda y luego comienza a codear en la siguiente. Debes implementar un código simple que transforme las columnas de coordenadas en un diccionario de Python (agrega más información si es necesario) y agrégala al mapa."
      ]
    },
    {
      "cell_type": "code",
      "execution_count": null,
      "id": "headed-privacy",
      "metadata": {},
      "outputs": [
        {
          "data": {
            "application/vnd.jupyter.widget-view+json": {
              "model_id": "92c8783e68f54898b7b2f3d7021ad67c",
              "version_major": 2,
              "version_minor": 0
            },
            "text/plain": [
              "Map(center=[40.35, -3.8], controls=(ZoomControl(options=['position', 'zoom_in_text', 'zoom_in_title', 'zoom_ou…"
            ]
          },
          "execution_count": 1,
          "metadata": {},
          "output_type": "execute_result"
        }
      ],
      "source": [
        "from ipyleaflet import Map, basemaps\n",
        "\n",
        "# Mapa centrado en Madrid\n",
        "map = Map(center = (40.35, -3.8), zoom = 11.5, min_zoom = 1, max_zoom = 20, \n",
        "    basemap=basemaps.OpenStreetMap.Mapnik)\n",
        "map"
      ]
    },
    {
      "cell_type": "code",
      "execution_count": null,
      "id": "present-mistress",
      "metadata": {},
      "outputs": [
        {
          "data": {
            "application/vnd.jupyter.widget-view+json": {
              "model_id": "ae8c1784695a40bdadfd606fccbaf5b3",
              "version_major": 2,
              "version_minor": 0
            },
            "text/plain": [
              "Map(center=[40.3285, -3.7535], controls=(ZoomControl(options=['position', 'zoom_in_text', 'zoom_in_title', 'zo…"
            ]
          },
          "execution_count": 26,
          "metadata": {},
          "output_type": "execute_result"
        }
      ],
      "source": [
        "## HERE: plot the coordinates of the estates\n",
        "\n",
        "## PUT HERE YOUR CODE:\n",
        "import pandas as pd\n",
        "from ipyleaflet import Map, Marker, MarkerCluster, basemaps\n",
        "\n",
        "\n",
        "data = {\n",
        "    \"level5\": [\"Fuenlabrada\", \"Leganés\", \"Getafe\", \"Alcorcón\"],\n",
        "    \"houses\": [10, 20, 15, 5],\n",
        "    \"latitude\": [40.2902, 40.3319, 40.3057, 40.3469],  \n",
        "    \"longitude\": [-3.8003, -3.7646, -3.7329, -3.8319]  \n",
        "}\n",
        "\n",
        "df = pd.DataFrame(data)\n",
        "\n",
        "def assign_color(houses):\n",
        "    if houses <= 5:\n",
        "        return 'green'\n",
        "    elif houses <= 10:\n",
        "        return 'yellow'\n",
        "    elif houses <= 15:\n",
        "        return 'orange'\n",
        "    else:\n",
        "        return 'red'\n",
        "\n",
        "\n",
        "df['color'] = df['houses'].apply(assign_color)\n",
        "\n",
        "\n",
        "map = Map(center=(40.3285, -3.7535), zoom=11, basemap=basemaps.OpenStreetMap.Mapnik)\n",
        "\n",
        "\n",
        "for _, row in df.iterrows():\n",
        "    marker = Marker(\n",
        "        location=(row['latitude'], row['longitude']),\n",
        "        draggable=False,\n",
        "        title=row['level5'],\n",
        "        alt=str(row['houses']),  \n",
        "        icon_color='orange'\n",
        "    )\n",
        "    map.add_layer(marker)\n",
        "\n",
        "# Display the map\n",
        "map"
      ]
    },
    {
      "cell_type": "code",
      "execution_count": 54,
      "id": "c945accf",
      "metadata": {},
      "outputs": [
        {
          "name": "stdout",
          "output_type": "stream",
          "text": [
            "0    yellow\n",
            "1       red\n",
            "2    orange\n",
            "3     green\n",
            "Name: color, dtype: object\n"
          ]
        }
      ],
      "source": [
        "print(df['color'])"
      ]
    }
  ],
  "metadata": {
    "kernelspec": {
      "display_name": "Python 3",
      "language": "python",
      "name": "python3"
    },
    "language_info": {
      "codemirror_mode": {
        "name": "ipython",
        "version": 3
      },
      "file_extension": ".py",
      "mimetype": "text/x-python",
      "name": "python",
      "nbconvert_exporter": "python",
      "pygments_lexer": "ipython3",
      "version": "3.11.4"
    }
  },
  "nbformat": 4,
  "nbformat_minor": 5
}
